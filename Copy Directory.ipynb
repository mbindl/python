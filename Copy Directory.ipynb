{
 "cells": [
  {
   "cell_type": "code",
   "execution_count": 1,
   "metadata": {},
   "outputs": [
    {
     "data": {
      "text/plain": [
       "'F:\\\\GIS\\\\PROJECTS\\\\ForestHealth_Intiative\\\\ThresholdUpdate1'"
      ]
     },
     "execution_count": 1,
     "metadata": {},
     "output_type": "execute_result"
    }
   ],
   "source": [
    "# https://docs.python.org/2/library/shutil.html\n",
    "import shutil\n",
    "\n",
    "# removes the folder\n",
    "#shutil.rmtree('F:\\GIS\\PROJECTS\\ForestHealth_Intiative\\LakeTahoeWest')\n",
    "# copies the contents of the first path to the second path (creates the second path)\n",
    "shutil.copytree('C:/GIS/PROJECT/ForestHealth','F:\\GIS\\PROJECTS\\ForestHealth_Intiative\\ThresholdUpdate1')\n",
    "\n",
    "#shutil.rmtree('C:/Users/mbindl/Google Drive/School')\n",
    "#shutil.copytree('C:/School/','C:/Users/mbindl/Google Drive/School' )"
   ]
  },
  {
   "cell_type": "code",
   "execution_count": null,
   "metadata": {},
   "outputs": [],
   "source": []
  }
 ],
 "metadata": {
  "kernelspec": {
   "display_name": "Python 3",
   "language": "python",
   "name": "python3"
  },
  "language_info": {
   "codemirror_mode": {
    "name": "ipython",
    "version": 3
   },
   "file_extension": ".py",
   "mimetype": "text/x-python",
   "name": "python",
   "nbconvert_exporter": "python",
   "pygments_lexer": "ipython3",
   "version": "3.6.5"
  },
  "toc": {
   "base_numbering": 1,
   "nav_menu": {},
   "number_sections": true,
   "sideBar": true,
   "skip_h1_title": false,
   "title_cell": "Table of Contents",
   "title_sidebar": "Contents",
   "toc_cell": false,
   "toc_position": {},
   "toc_section_display": true,
   "toc_window_display": false
  }
 },
 "nbformat": 4,
 "nbformat_minor": 2
}
