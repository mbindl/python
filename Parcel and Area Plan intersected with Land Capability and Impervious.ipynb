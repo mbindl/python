{
 "cells": [
  {
   "cell_type": "markdown",
   "metadata": {},
   "source": [
    "## Parcels intersected with NRCS 2007 and Impervious\n",
    "### Recreate these tables: \n",
    "#### F:\\Research and Analysis\\Reporting\\Annual Reports\\2016 Annual Report\\Data and Analysis\\Coverage\\RawData\\AnalysisProduct\n",
    "\n",
    "#### F:/Research and Analysis/Reporting/Annual Reports/2016 Annual Report/Data and Analysis/Coverage/RawData\n"
   ]
  },
  {
   "cell_type": "code",
   "execution_count": 1,
   "metadata": {},
   "outputs": [
    {
     "name": "stdout",
     "output_type": "stream",
     "text": [
      "Table id_NRCS_LocalPlan_Impervious.csv created\n",
      "Table id_NRCS_LocalPlan_Impervious_Parcel.csv created\n"
     ]
    }
   ],
   "source": [
    "# import modules and set environment settings\n",
    "import arcpy, os\n",
    "arcpy.overwriteOutput = True\n",
    "\n",
    "# set local variables\n",
    "sdeBase = \"F:/GIS/GIS_DATA/Vector.sde\"\n",
    "parcels = sdeBase + \"//sde.SDE.Parcels//sde.SDE.Parcel_Master\"\n",
    "impervious = sdeBase + \"//sde.SDE.Tahoe_Impervious_2010//sde.SDE.Impervious_2010\"\n",
    "soils = sdeBase + \"//sde.SDE.Soils//sde.SDE.land_capability_NRCS2007\" \n",
    "localplan = sdeBase + \"//sde.SDE.Planning//sde.SDE.LocalPlan\"\n",
    "\n",
    "# delete in memory feature classes\n",
    "if arcpy.Exists(\"in_memory/id_NRCS_LocalPlan\"):\n",
    "    arcpy.Delete_management(\"in_memory/id_NRCS_LocalPlan\")\n",
    "\n",
    "if arcpy.Exists(\"in_memory/id_NRCS_LocalPlan_Impervious\"):\n",
    "    arcpy.Delete_management(\"in_memory/id_NRCS_LocalPlan_Impervious\")\n",
    "    \n",
    "if arcpy.Exists(\"in_memory/id_NRCS_LocalPlan_Impervious_Parcel\"):\n",
    "    arcpy.Delete_management(\"in_memory/id_NRCS_LocalPlan_Impervious_Parcel\")\n",
    "\n",
    "# tables\n",
    "outTableImpervious = \"id_NRCS_LocalPlan_Impervious.csv\"\n",
    "outTableParcel = \"id_NRCS_LocalPlan_Impervious_Parcel.csv\"\n",
    "outLocation = r\"F:/Research and Analysis/Reporting/Annual Reports/2017 Annual Report/2017-Annual-Report_Data/Coverage/rawdata\"\n",
    "\n",
    "# output feature classes\n",
    "id_NRCS_LocalPlan = \"in_memory/id_NRCS_LocalPlan\"\n",
    "id_NRCS_LocalPlan_Impervious = \"in_memory/id_NRCS_LocalPlan_Impervious\"\n",
    "id_NRCS_LocalPlan_Impervious_Parcel = \"in_memory/id_NRCS_LocalPlan_Impervious_Parcel\"\n",
    "\n",
    "####\n",
    "####\n",
    "\n",
    "# identify land capability/local plan \n",
    "arcpy.Identity_analysis (soils, localplan, id_NRCS_LocalPlan)\n",
    "\n",
    "# identify land capability/local plan/impervious\n",
    "arcpy.Identity_analysis (id_NRCS_LocalPlan, impervious, id_NRCS_LocalPlan_Impervious)\n",
    "\n",
    "# calculate acres\n",
    "with arcpy.da.UpdateCursor(id_NRCS_LocalPlan_Impervious, ['GISAcre', 'SHAPE@']) as cursor:\n",
    "    for row in cursor:\n",
    "        row[0] = row[1].getArea('GEODESIC', 'ACRES')\n",
    "        cursor.updateRow(row)\n",
    "\n",
    "# delete table if it exists\n",
    "if arcpy.Exists(os.path.join(outLocation,outTableImpervious)):\n",
    "    arcpy.Delete_management(os.path.join(outLocation,outTableImpervious))\n",
    "    \n",
    "# Execute Table To Table\n",
    "arcpy.TableToTable_conversion(id_NRCS_LocalPlan_Impervious, outLocation, outTableImpervious)\n",
    "\n",
    "# success?\n",
    "print(\"Table {0} created\".format(outTableImpervious))\n",
    "\n",
    "####\n",
    "####\n",
    "\n",
    "# identify land capability/local plan/impervious/parcel master\n",
    "arcpy.Identity_analysis (id_NRCS_LocalPlan_Impervious, parcels, id_NRCS_LocalPlan_Impervious_Parcel)\n",
    "\n",
    "# calculate acres\n",
    "with arcpy.da.UpdateCursor(id_NRCS_LocalPlan_Impervious_Parcel, ['GISAcre', 'SHAPE@']) as cursor:\n",
    "    for row in cursor:\n",
    "        row[0] = row[1].getArea('GEODESIC', 'ACRES')\n",
    "        cursor.updateRow(row)\n",
    "\n",
    "# delete table if it exists\n",
    "if arcpy.Exists(os.path.join(outLocation,outTableParcel)):\n",
    "    arcpy.Delete_management(os.path.join(outLocation,outTableParcel))\n",
    "\n",
    "# Execute Table To Table\n",
    "arcpy.TableToTable_conversion(id_NRCS_LocalPlan_Impervious_Parcel, outLocation, outTableParcel)\n",
    "\n",
    "# success?\n",
    "print(\"Table {0} created\".format(outTableParcel))"
   ]
  },
  {
   "cell_type": "code",
   "execution_count": null,
   "metadata": {},
   "outputs": [],
   "source": []
  }
 ],
 "metadata": {
  "kernelspec": {
   "display_name": "Python 3",
   "language": "python",
   "name": "python3"
  },
  "language_info": {
   "codemirror_mode": {
    "name": "ipython",
    "version": 3
   },
   "file_extension": ".py",
   "mimetype": "text/x-python",
   "name": "python",
   "nbconvert_exporter": "python",
   "pygments_lexer": "ipython3",
   "version": "3.6.5"
  },
  "toc": {
   "base_numbering": 1,
   "nav_menu": {},
   "number_sections": true,
   "sideBar": true,
   "skip_h1_title": false,
   "title_cell": "Table of Contents",
   "title_sidebar": "Contents",
   "toc_cell": false,
   "toc_position": {},
   "toc_section_display": true,
   "toc_window_display": false
  }
 },
 "nbformat": 4,
 "nbformat_minor": 2
}
