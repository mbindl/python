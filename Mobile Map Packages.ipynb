{
 "cells": [
  {
   "cell_type": "markdown",
   "metadata": {},
   "source": [
    "## Create Mobile Map Package\n",
    "### ArcPro tools allow you to create a mobile map package, which can be side loaded onto a device or shared via AGOL/Portal. These mmpk files can be used offline on your device!"
   ]
  },
  {
   "cell_type": "markdown",
   "metadata": {},
   "source": [
    "## Use this tool to generate your Mobile Map Package"
   ]
  },
  {
   "cell_type": "code",
   "execution_count": 1,
   "metadata": {},
   "outputs": [
    {
     "data": {
      "text/plain": [
       "<Result 'C:\\\\GIS\\\\Mobile\\\\LTW_Ecobject.mmpk'>"
      ]
     },
     "execution_count": 1,
     "metadata": {},
     "output_type": "execute_result"
    }
   ],
   "source": [
    "import arcpy\n",
    "\n",
    "# set the locaiton and file name\n",
    "outputfile = \"C:/GIS/Mobile/LTW_Ecobject.mmpk\"\n",
    "\n",
    "# deletes the intended output file if it exists \n",
    "if arcpy.Exists(outputfile):\n",
    "    arcpy.Delete_management(outputfile)\n",
    "\n",
    "# generate the mobile map package\n",
    "arcpy.management.CreateMobileMapPackage([r\"C:\\GIS\\PROJECT\\LakeTahoeWest\\MXD\\LakeTahoeWest_MobileMap.mapx\"], \n",
    "                                        outputfile, None, r\"C:\\GIS\\PROJECT\\LakeTahoeWest\\Layerfile\\ProjectArea.lyrx\", \n",
    "                                        \"DEFAULT\", \"CLIP\", \"Lake Tahoe West - Ecobject - Mobile Map\", \n",
    "                                        \"Summary: Mobile Map for the Lake Tahoe West Team\", \n",
    "                                        \"Map diplaying relevant layers for the Lake Tahoe West Forest Health Project\", \n",
    "                                        \"Lake Tahoe West, TRPA\")"
   ]
  },
  {
   "cell_type": "markdown",
   "metadata": {},
   "source": [
    "## Copy Features"
   ]
  },
  {
   "cell_type": "code",
   "execution_count": null,
   "metadata": {},
   "outputs": [],
   "source": [
    "import arcpy\n",
    "with arcpy.env.workspace(\"\")\n",
    "    "
   ]
  },
  {
   "cell_type": "markdown",
   "metadata": {},
   "source": [
    "## Use this tool to share your Mobile Map Package to Portal"
   ]
  },
  {
   "cell_type": "code",
   "execution_count": null,
   "metadata": {},
   "outputs": [],
   "source": [
    "# Name: SharePackageExample.py\n",
    "# Description:  Find all the map packages that reside in a specified folder and share them on ArcGIS online.\n",
    "\n",
    "# import system modules\n",
    "import os\n",
    "import arcpy\n",
    "\n",
    "# Set environment settings\n",
    "arcpy.env.overwriteOutput = True\n",
    "arcpy.env.workspace = \"C:/data/my_packages\" \n",
    "\n",
    "# Loop through the workspace, find all the layer and map packages \n",
    "for mmpk in arcpy.ListFiles(\"*.mmpk\"):\n",
    "    print(\"Sharing \" + mmpk)\n",
    "    arcpy.SharePackage_management(mpk,\"mbindl\",\"Ma$eatWork17\",\"This is a summary\",\"tag1, tag2\",\"Credits\",\"MYGROUPS\",\"My_Group\")\n",
    "  \n",
    "\n",
    "\n"
   ]
  },
  {
   "cell_type": "markdown",
   "metadata": {},
   "source": [
    "## References\n",
    "## http://desktop.arcgis.com/en/arcmap/latest/tools/data-management-toolbox/share-package.htm\n",
    "\n",
    "## https://doc.arcgis.com/en/explorer/android-phone/help/make-offline-maps.htm\n",
    "\n",
    "## https://doc.arcgis.com/en/navigator/android-tablet/help/make-a-map-with-all-your-own-data.htm\n",
    "\n",
    "## https://community.esri.com/community/gis/applications/arcgis-pro/blog/2018/01/20/use-arcgis-pro-21-to-make-an-offline-map\n"
   ]
  },
  {
   "cell_type": "code",
   "execution_count": null,
   "metadata": {},
   "outputs": [],
   "source": []
  }
 ],
 "metadata": {
  "kernelspec": {
   "display_name": "Python 3",
   "language": "python",
   "name": "python3"
  },
  "language_info": {
   "codemirror_mode": {
    "name": "ipython",
    "version": 3
   },
   "file_extension": ".py",
   "mimetype": "text/x-python",
   "name": "python",
   "nbconvert_exporter": "python",
   "pygments_lexer": "ipython3",
   "version": "3.6.5"
  },
  "toc": {
   "base_numbering": 1,
   "nav_menu": {},
   "number_sections": true,
   "sideBar": true,
   "skip_h1_title": false,
   "title_cell": "Table of Contents",
   "title_sidebar": "Contents",
   "toc_cell": false,
   "toc_position": {},
   "toc_section_display": true,
   "toc_window_display": false
  }
 },
 "nbformat": 4,
 "nbformat_minor": 2
}
