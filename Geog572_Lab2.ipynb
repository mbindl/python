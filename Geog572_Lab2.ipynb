{
 "cells": [
  {
   "cell_type": "markdown",
   "metadata": {
    "collapsed": true,
    "hideCode": true
   },
   "source": [
    "# Create Elevation Profile Graphs"
   ]
  },
  {
   "cell_type": "code",
   "execution_count": 1,
   "metadata": {},
   "outputs": [],
   "source": [
    "# Import system modules\n",
    "import arcpy\n",
    "import pandas as pd\n",
    "import matplotlib.pyplot as plt\n",
    "%matplotlib inline\n",
    "import seaborn as sns\n",
    "# set workspace and overwrite to true\n",
    "arcpy.env.workspace = \"C:\\\\SCHOOL\\\\Geog572\\\\Lab2\\\\Geography572_Lab2.gdb\"\n",
    "arcpy.env.overwriteOutput = True"
   ]
  },
  {
   "cell_type": "markdown",
   "metadata": {},
   "source": [
    "# Create Elevation Profile table using ArcPy"
   ]
  },
  {
   "cell_type": "code",
   "execution_count": 2,
   "metadata": {},
   "outputs": [
    {
     "data": {
      "text/plain": [
       "<Result 'C:\\\\SCHOOL\\\\Geog572\\\\Lab2\\\\Data\\\\ProfileStack.csv'>"
      ]
     },
     "execution_count": 2,
     "metadata": {},
     "output_type": "execute_result"
    }
   ],
   "source": [
    "# Set Local Variables\n",
    "profileLine = 'TourDeTahoe'\n",
    "profileTarget = 'USGS_DEM'\n",
    "profileTable = 'C:\\\\SCHOOL\\\\Geog572\\\\Lab2\\\\Data\\\\ProfileStack.csv'\n",
    "if arcpy.Exists(profileTable):\n",
    "    arcpy.Delete_management(profileTable)\n",
    "# Execute StackProfile\n",
    "arcpy.ddd.StackProfile(profileLine, profileTarget, profileTable)"
   ]
  },
  {
   "cell_type": "markdown",
   "metadata": {},
   "source": [
    "# Read in Elevation Profile Data"
   ]
  },
  {
   "cell_type": "code",
   "execution_count": 3,
   "metadata": {
    "scrolled": false
   },
   "outputs": [
    {
     "data": {
      "text/html": [
       "<div>\n",
       "<style scoped>\n",
       "    .dataframe tbody tr th:only-of-type {\n",
       "        vertical-align: middle;\n",
       "    }\n",
       "\n",
       "    .dataframe tbody tr th {\n",
       "        vertical-align: top;\n",
       "    }\n",
       "\n",
       "    .dataframe thead th {\n",
       "        text-align: right;\n",
       "    }\n",
       "</style>\n",
       "<table border=\"1\" class=\"dataframe\">\n",
       "  <thead>\n",
       "    <tr style=\"text-align: right;\">\n",
       "      <th></th>\n",
       "      <th>OBJECTID</th>\n",
       "      <th>FIRST_DIST</th>\n",
       "      <th>FIRST_Z</th>\n",
       "      <th>SEC_DIST</th>\n",
       "      <th>SEC_Z</th>\n",
       "      <th>LINE_ID</th>\n",
       "      <th>SRC_TYPE</th>\n",
       "      <th>SRC_ID</th>\n",
       "      <th>SRC_NAME</th>\n",
       "    </tr>\n",
       "  </thead>\n",
       "  <tbody>\n",
       "    <tr>\n",
       "      <th>0</th>\n",
       "      <td>-1</td>\n",
       "      <td>0.000000</td>\n",
       "      <td>2014.6919</td>\n",
       "      <td>NaN</td>\n",
       "      <td>NaN</td>\n",
       "      <td>1</td>\n",
       "      <td>Surface</td>\n",
       "      <td>NaN</td>\n",
       "      <td>C__SCHOOL_Geog572_Lab2_Geography572_Lab2_gdb_U...</td>\n",
       "    </tr>\n",
       "    <tr>\n",
       "      <th>1</th>\n",
       "      <td>-1</td>\n",
       "      <td>8.349525</td>\n",
       "      <td>2014.2242</td>\n",
       "      <td>NaN</td>\n",
       "      <td>NaN</td>\n",
       "      <td>1</td>\n",
       "      <td>Surface</td>\n",
       "      <td>NaN</td>\n",
       "      <td>C__SCHOOL_Geog572_Lab2_Geography572_Lab2_gdb_U...</td>\n",
       "    </tr>\n",
       "    <tr>\n",
       "      <th>2</th>\n",
       "      <td>-1</td>\n",
       "      <td>16.699050</td>\n",
       "      <td>2014.9521</td>\n",
       "      <td>NaN</td>\n",
       "      <td>NaN</td>\n",
       "      <td>1</td>\n",
       "      <td>Surface</td>\n",
       "      <td>NaN</td>\n",
       "      <td>C__SCHOOL_Geog572_Lab2_Geography572_Lab2_gdb_U...</td>\n",
       "    </tr>\n",
       "    <tr>\n",
       "      <th>3</th>\n",
       "      <td>-1</td>\n",
       "      <td>25.048482</td>\n",
       "      <td>2016.4880</td>\n",
       "      <td>NaN</td>\n",
       "      <td>NaN</td>\n",
       "      <td>1</td>\n",
       "      <td>Surface</td>\n",
       "      <td>NaN</td>\n",
       "      <td>C__SCHOOL_Geog572_Lab2_Geography572_Lab2_gdb_U...</td>\n",
       "    </tr>\n",
       "    <tr>\n",
       "      <th>4</th>\n",
       "      <td>-1</td>\n",
       "      <td>33.398007</td>\n",
       "      <td>2017.8203</td>\n",
       "      <td>NaN</td>\n",
       "      <td>NaN</td>\n",
       "      <td>1</td>\n",
       "      <td>Surface</td>\n",
       "      <td>NaN</td>\n",
       "      <td>C__SCHOOL_Geog572_Lab2_Geography572_Lab2_gdb_U...</td>\n",
       "    </tr>\n",
       "  </tbody>\n",
       "</table>\n",
       "</div>"
      ],
      "text/plain": [
       "   OBJECTID  FIRST_DIST    FIRST_Z  SEC_DIST  SEC_Z  LINE_ID SRC_TYPE  SRC_ID  \\\n",
       "0        -1    0.000000  2014.6919       NaN    NaN        1  Surface     NaN   \n",
       "1        -1    8.349525  2014.2242       NaN    NaN        1  Surface     NaN   \n",
       "2        -1   16.699050  2014.9521       NaN    NaN        1  Surface     NaN   \n",
       "3        -1   25.048482  2016.4880       NaN    NaN        1  Surface     NaN   \n",
       "4        -1   33.398007  2017.8203       NaN    NaN        1  Surface     NaN   \n",
       "\n",
       "                                            SRC_NAME  \n",
       "0  C__SCHOOL_Geog572_Lab2_Geography572_Lab2_gdb_U...  \n",
       "1  C__SCHOOL_Geog572_Lab2_Geography572_Lab2_gdb_U...  \n",
       "2  C__SCHOOL_Geog572_Lab2_Geography572_Lab2_gdb_U...  \n",
       "3  C__SCHOOL_Geog572_Lab2_Geography572_Lab2_gdb_U...  \n",
       "4  C__SCHOOL_Geog572_Lab2_Geography572_Lab2_gdb_U...  "
      ]
     },
     "execution_count": 3,
     "metadata": {},
     "output_type": "execute_result"
    }
   ],
   "source": [
    "evPro = pd.read_csv('C:\\\\SCHOOL\\\\Geog572\\\\Lab2\\\\Data\\\\ProfileStack.csv')\n",
    "evPro.head()"
   ]
  },
  {
   "cell_type": "code",
   "execution_count": 4,
   "metadata": {},
   "outputs": [],
   "source": [
    "# change elevation from meters to feet\n",
    "evPro.FIRST_Z = evPro.FIRST_Z * 3.28\n",
    "# change meters to miles\n",
    "evPro.FIRST_DIST = evPro.FIRST_DIST * 0.000621"
   ]
  },
  {
   "cell_type": "code",
   "execution_count": 5,
   "metadata": {},
   "outputs": [
    {
     "data": {
      "text/html": [
       "<div>\n",
       "<style scoped>\n",
       "    .dataframe tbody tr th:only-of-type {\n",
       "        vertical-align: middle;\n",
       "    }\n",
       "\n",
       "    .dataframe tbody tr th {\n",
       "        vertical-align: top;\n",
       "    }\n",
       "\n",
       "    .dataframe thead th {\n",
       "        text-align: right;\n",
       "    }\n",
       "</style>\n",
       "<table border=\"1\" class=\"dataframe\">\n",
       "  <thead>\n",
       "    <tr style=\"text-align: right;\">\n",
       "      <th></th>\n",
       "      <th>OBJECTID</th>\n",
       "      <th>FIRST_DIST</th>\n",
       "      <th>FIRST_Z</th>\n",
       "      <th>SEC_DIST</th>\n",
       "      <th>SEC_Z</th>\n",
       "      <th>LINE_ID</th>\n",
       "      <th>SRC_TYPE</th>\n",
       "      <th>SRC_ID</th>\n",
       "      <th>SRC_NAME</th>\n",
       "    </tr>\n",
       "  </thead>\n",
       "  <tbody>\n",
       "    <tr>\n",
       "      <th>0</th>\n",
       "      <td>-1</td>\n",
       "      <td>0.000000</td>\n",
       "      <td>6608.189432</td>\n",
       "      <td>NaN</td>\n",
       "      <td>NaN</td>\n",
       "      <td>1</td>\n",
       "      <td>Surface</td>\n",
       "      <td>NaN</td>\n",
       "      <td>C__SCHOOL_Geog572_Lab2_Geography572_Lab2_gdb_U...</td>\n",
       "    </tr>\n",
       "    <tr>\n",
       "      <th>1</th>\n",
       "      <td>-1</td>\n",
       "      <td>0.005185</td>\n",
       "      <td>6606.655376</td>\n",
       "      <td>NaN</td>\n",
       "      <td>NaN</td>\n",
       "      <td>1</td>\n",
       "      <td>Surface</td>\n",
       "      <td>NaN</td>\n",
       "      <td>C__SCHOOL_Geog572_Lab2_Geography572_Lab2_gdb_U...</td>\n",
       "    </tr>\n",
       "    <tr>\n",
       "      <th>2</th>\n",
       "      <td>-1</td>\n",
       "      <td>0.010370</td>\n",
       "      <td>6609.042888</td>\n",
       "      <td>NaN</td>\n",
       "      <td>NaN</td>\n",
       "      <td>1</td>\n",
       "      <td>Surface</td>\n",
       "      <td>NaN</td>\n",
       "      <td>C__SCHOOL_Geog572_Lab2_Geography572_Lab2_gdb_U...</td>\n",
       "    </tr>\n",
       "    <tr>\n",
       "      <th>3</th>\n",
       "      <td>-1</td>\n",
       "      <td>0.015555</td>\n",
       "      <td>6614.080640</td>\n",
       "      <td>NaN</td>\n",
       "      <td>NaN</td>\n",
       "      <td>1</td>\n",
       "      <td>Surface</td>\n",
       "      <td>NaN</td>\n",
       "      <td>C__SCHOOL_Geog572_Lab2_Geography572_Lab2_gdb_U...</td>\n",
       "    </tr>\n",
       "    <tr>\n",
       "      <th>4</th>\n",
       "      <td>-1</td>\n",
       "      <td>0.020740</td>\n",
       "      <td>6618.450584</td>\n",
       "      <td>NaN</td>\n",
       "      <td>NaN</td>\n",
       "      <td>1</td>\n",
       "      <td>Surface</td>\n",
       "      <td>NaN</td>\n",
       "      <td>C__SCHOOL_Geog572_Lab2_Geography572_Lab2_gdb_U...</td>\n",
       "    </tr>\n",
       "  </tbody>\n",
       "</table>\n",
       "</div>"
      ],
      "text/plain": [
       "   OBJECTID  FIRST_DIST      FIRST_Z  SEC_DIST  SEC_Z  LINE_ID SRC_TYPE  \\\n",
       "0        -1    0.000000  6608.189432       NaN    NaN        1  Surface   \n",
       "1        -1    0.005185  6606.655376       NaN    NaN        1  Surface   \n",
       "2        -1    0.010370  6609.042888       NaN    NaN        1  Surface   \n",
       "3        -1    0.015555  6614.080640       NaN    NaN        1  Surface   \n",
       "4        -1    0.020740  6618.450584       NaN    NaN        1  Surface   \n",
       "\n",
       "   SRC_ID                                           SRC_NAME  \n",
       "0     NaN  C__SCHOOL_Geog572_Lab2_Geography572_Lab2_gdb_U...  \n",
       "1     NaN  C__SCHOOL_Geog572_Lab2_Geography572_Lab2_gdb_U...  \n",
       "2     NaN  C__SCHOOL_Geog572_Lab2_Geography572_Lab2_gdb_U...  \n",
       "3     NaN  C__SCHOOL_Geog572_Lab2_Geography572_Lab2_gdb_U...  \n",
       "4     NaN  C__SCHOOL_Geog572_Lab2_Geography572_Lab2_gdb_U...  "
      ]
     },
     "execution_count": 5,
     "metadata": {},
     "output_type": "execute_result"
    }
   ],
   "source": [
    "evPro.head()"
   ]
  },
  {
   "cell_type": "markdown",
   "metadata": {},
   "source": [
    "# Generate Line Plots By Stage"
   ]
  },
  {
   "cell_type": "markdown",
   "metadata": {},
   "source": [
    "## Stage 1"
   ]
  },
  {
   "cell_type": "code",
   "execution_count": 6,
   "metadata": {},
   "outputs": [
    {
     "data": {
      "text/html": [
       "<div>\n",
       "<style scoped>\n",
       "    .dataframe tbody tr th:only-of-type {\n",
       "        vertical-align: middle;\n",
       "    }\n",
       "\n",
       "    .dataframe tbody tr th {\n",
       "        vertical-align: top;\n",
       "    }\n",
       "\n",
       "    .dataframe thead th {\n",
       "        text-align: right;\n",
       "    }\n",
       "</style>\n",
       "<table border=\"1\" class=\"dataframe\">\n",
       "  <thead>\n",
       "    <tr style=\"text-align: right;\">\n",
       "      <th></th>\n",
       "      <th>OBJECTID</th>\n",
       "      <th>FIRST_DIST</th>\n",
       "      <th>FIRST_Z</th>\n",
       "      <th>SEC_DIST</th>\n",
       "      <th>SEC_Z</th>\n",
       "      <th>LINE_ID</th>\n",
       "      <th>SRC_TYPE</th>\n",
       "      <th>SRC_ID</th>\n",
       "      <th>SRC_NAME</th>\n",
       "    </tr>\n",
       "  </thead>\n",
       "  <tbody>\n",
       "    <tr>\n",
       "      <th>0</th>\n",
       "      <td>-1</td>\n",
       "      <td>0.000000</td>\n",
       "      <td>6608.189432</td>\n",
       "      <td>NaN</td>\n",
       "      <td>NaN</td>\n",
       "      <td>1</td>\n",
       "      <td>Surface</td>\n",
       "      <td>NaN</td>\n",
       "      <td>C__SCHOOL_Geog572_Lab2_Geography572_Lab2_gdb_U...</td>\n",
       "    </tr>\n",
       "    <tr>\n",
       "      <th>1</th>\n",
       "      <td>-1</td>\n",
       "      <td>0.005185</td>\n",
       "      <td>6606.655376</td>\n",
       "      <td>NaN</td>\n",
       "      <td>NaN</td>\n",
       "      <td>1</td>\n",
       "      <td>Surface</td>\n",
       "      <td>NaN</td>\n",
       "      <td>C__SCHOOL_Geog572_Lab2_Geography572_Lab2_gdb_U...</td>\n",
       "    </tr>\n",
       "    <tr>\n",
       "      <th>2</th>\n",
       "      <td>-1</td>\n",
       "      <td>0.010370</td>\n",
       "      <td>6609.042888</td>\n",
       "      <td>NaN</td>\n",
       "      <td>NaN</td>\n",
       "      <td>1</td>\n",
       "      <td>Surface</td>\n",
       "      <td>NaN</td>\n",
       "      <td>C__SCHOOL_Geog572_Lab2_Geography572_Lab2_gdb_U...</td>\n",
       "    </tr>\n",
       "    <tr>\n",
       "      <th>3</th>\n",
       "      <td>-1</td>\n",
       "      <td>0.015555</td>\n",
       "      <td>6614.080640</td>\n",
       "      <td>NaN</td>\n",
       "      <td>NaN</td>\n",
       "      <td>1</td>\n",
       "      <td>Surface</td>\n",
       "      <td>NaN</td>\n",
       "      <td>C__SCHOOL_Geog572_Lab2_Geography572_Lab2_gdb_U...</td>\n",
       "    </tr>\n",
       "    <tr>\n",
       "      <th>4</th>\n",
       "      <td>-1</td>\n",
       "      <td>0.020740</td>\n",
       "      <td>6618.450584</td>\n",
       "      <td>NaN</td>\n",
       "      <td>NaN</td>\n",
       "      <td>1</td>\n",
       "      <td>Surface</td>\n",
       "      <td>NaN</td>\n",
       "      <td>C__SCHOOL_Geog572_Lab2_Geography572_Lab2_gdb_U...</td>\n",
       "    </tr>\n",
       "  </tbody>\n",
       "</table>\n",
       "</div>"
      ],
      "text/plain": [
       "   OBJECTID  FIRST_DIST      FIRST_Z  SEC_DIST  SEC_Z  LINE_ID SRC_TYPE  \\\n",
       "0        -1    0.000000  6608.189432       NaN    NaN        1  Surface   \n",
       "1        -1    0.005185  6606.655376       NaN    NaN        1  Surface   \n",
       "2        -1    0.010370  6609.042888       NaN    NaN        1  Surface   \n",
       "3        -1    0.015555  6614.080640       NaN    NaN        1  Surface   \n",
       "4        -1    0.020740  6618.450584       NaN    NaN        1  Surface   \n",
       "\n",
       "   SRC_ID                                           SRC_NAME  \n",
       "0     NaN  C__SCHOOL_Geog572_Lab2_Geography572_Lab2_gdb_U...  \n",
       "1     NaN  C__SCHOOL_Geog572_Lab2_Geography572_Lab2_gdb_U...  \n",
       "2     NaN  C__SCHOOL_Geog572_Lab2_Geography572_Lab2_gdb_U...  \n",
       "3     NaN  C__SCHOOL_Geog572_Lab2_Geography572_Lab2_gdb_U...  \n",
       "4     NaN  C__SCHOOL_Geog572_Lab2_Geography572_Lab2_gdb_U...  "
      ]
     },
     "execution_count": 6,
     "metadata": {},
     "output_type": "execute_result"
    }
   ],
   "source": [
    "stg = evPro[(evPro.LINE_ID == 1)]\n",
    "stg.head()"
   ]
  },
  {
   "cell_type": "code",
   "execution_count": 7,
   "metadata": {
    "scrolled": false
   },
   "outputs": [
    {
     "data": {
      "image/png": "[encoded data removed]",
      "text/plain": [
       "<Figure size 432x288 with 1 Axes>"
      ]
     },
     "metadata": {},
     "output_type": "display_data"
    }
   ],
   "source": [
    "sns.set_style(\"dark\")\n",
    "stg_plot = sns.lineplot(x=\"FIRST_DIST\", y=\"FIRST_Z\", data=stg)\n",
    "stg_plot.set(xlim=(0,18.3), ylim=(6000,10000), xticks=[0,5,10,15,18.3], yticks=[6229,7000, 8000,9000,10000]);\n",
    "fig = stg_plot.get_figure()\n",
    "fig.savefig(\"C:\\\\SCHOOL\\\\Geog572\\\\Lab2\\\\Data\\\\Stage1_ElevationPlot.svg\")"
   ]
  },
  {
   "cell_type": "markdown",
   "metadata": {},
   "source": [
    "## Stage 2"
   ]
  },
  {
   "cell_type": "code",
   "execution_count": 8,
   "metadata": {
    "scrolled": true
   },
   "outputs": [
    {
     "data": {
      "text/html": [
       "<div>\n",
       "<style scoped>\n",
       "    .dataframe tbody tr th:only-of-type {\n",
       "        vertical-align: middle;\n",
       "    }\n",
       "\n",
       "    .dataframe tbody tr th {\n",
       "        vertical-align: top;\n",
       "    }\n",
       "\n",
       "    .dataframe thead th {\n",
       "        text-align: right;\n",
       "    }\n",
       "</style>\n",
       "<table border=\"1\" class=\"dataframe\">\n",
       "  <thead>\n",
       "    <tr style=\"text-align: right;\">\n",
       "      <th></th>\n",
       "      <th>OBJECTID</th>\n",
       "      <th>FIRST_DIST</th>\n",
       "      <th>FIRST_Z</th>\n",
       "      <th>SEC_DIST</th>\n",
       "      <th>SEC_Z</th>\n",
       "      <th>LINE_ID</th>\n",
       "      <th>SRC_TYPE</th>\n",
       "      <th>SRC_ID</th>\n",
       "      <th>SRC_NAME</th>\n",
       "    </tr>\n",
       "  </thead>\n",
       "  <tbody>\n",
       "    <tr>\n",
       "      <th>16107</th>\n",
       "      <td>-1</td>\n",
       "      <td>0.000000</td>\n",
       "      <td>6557.386496</td>\n",
       "      <td>NaN</td>\n",
       "      <td>NaN</td>\n",
       "      <td>2</td>\n",
       "      <td>Surface</td>\n",
       "      <td>NaN</td>\n",
       "      <td>C__SCHOOL_Geog572_Lab2_Geography572_Lab2_gdb_U...</td>\n",
       "    </tr>\n",
       "    <tr>\n",
       "      <th>16108</th>\n",
       "      <td>-1</td>\n",
       "      <td>0.005724</td>\n",
       "      <td>6561.054192</td>\n",
       "      <td>NaN</td>\n",
       "      <td>NaN</td>\n",
       "      <td>2</td>\n",
       "      <td>Surface</td>\n",
       "      <td>NaN</td>\n",
       "      <td>C__SCHOOL_Geog572_Lab2_Geography572_Lab2_gdb_U...</td>\n",
       "    </tr>\n",
       "    <tr>\n",
       "      <th>16109</th>\n",
       "      <td>-1</td>\n",
       "      <td>0.011447</td>\n",
       "      <td>6562.925760</td>\n",
       "      <td>NaN</td>\n",
       "      <td>NaN</td>\n",
       "      <td>2</td>\n",
       "      <td>Surface</td>\n",
       "      <td>NaN</td>\n",
       "      <td>C__SCHOOL_Geog572_Lab2_Geography572_Lab2_gdb_U...</td>\n",
       "    </tr>\n",
       "    <tr>\n",
       "      <th>16110</th>\n",
       "      <td>-1</td>\n",
       "      <td>0.017171</td>\n",
       "      <td>6566.070624</td>\n",
       "      <td>NaN</td>\n",
       "      <td>NaN</td>\n",
       "      <td>2</td>\n",
       "      <td>Surface</td>\n",
       "      <td>NaN</td>\n",
       "      <td>C__SCHOOL_Geog572_Lab2_Geography572_Lab2_gdb_U...</td>\n",
       "    </tr>\n",
       "    <tr>\n",
       "      <th>16111</th>\n",
       "      <td>-1</td>\n",
       "      <td>0.017665</td>\n",
       "      <td>6566.398624</td>\n",
       "      <td>NaN</td>\n",
       "      <td>NaN</td>\n",
       "      <td>2</td>\n",
       "      <td>Surface</td>\n",
       "      <td>NaN</td>\n",
       "      <td>C__SCHOOL_Geog572_Lab2_Geography572_Lab2_gdb_U...</td>\n",
       "    </tr>\n",
       "  </tbody>\n",
       "</table>\n",
       "</div>"
      ],
      "text/plain": [
       "       OBJECTID  FIRST_DIST      FIRST_Z  SEC_DIST  SEC_Z  LINE_ID SRC_TYPE  \\\n",
       "16107        -1    0.000000  6557.386496       NaN    NaN        2  Surface   \n",
       "16108        -1    0.005724  6561.054192       NaN    NaN        2  Surface   \n",
       "16109        -1    0.011447  6562.925760       NaN    NaN        2  Surface   \n",
       "16110        -1    0.017171  6566.070624       NaN    NaN        2  Surface   \n",
       "16111        -1    0.017665  6566.398624       NaN    NaN        2  Surface   \n",
       "\n",
       "       SRC_ID                                           SRC_NAME  \n",
       "16107     NaN  C__SCHOOL_Geog572_Lab2_Geography572_Lab2_gdb_U...  \n",
       "16108     NaN  C__SCHOOL_Geog572_Lab2_Geography572_Lab2_gdb_U...  \n",
       "16109     NaN  C__SCHOOL_Geog572_Lab2_Geography572_Lab2_gdb_U...  \n",
       "16110     NaN  C__SCHOOL_Geog572_Lab2_Geography572_Lab2_gdb_U...  \n",
       "16111     NaN  C__SCHOOL_Geog572_Lab2_Geography572_Lab2_gdb_U...  "
      ]
     },
     "execution_count": 8,
     "metadata": {},
     "output_type": "execute_result"
    }
   ],
   "source": [
    "stg = evPro[(evPro.LINE_ID == 2)]\n",
    "stg.head()"
   ]
  },
  {
   "cell_type": "code",
   "execution_count": 9,
   "metadata": {
    "scrolled": false
   },
   "outputs": [
    {
     "data": {
      "image/png": "[encoded data removed]",
      "text/plain": [
       "<Figure size 432x288 with 1 Axes>"
      ]
     },
     "metadata": {},
     "output_type": "display_data"
    }
   ],
   "source": [
    "sns.set_style(\"dark\")\n",
    "stg_plot = sns.lineplot(x=\"FIRST_DIST\", y=\"FIRST_Z\", data=stg)\n",
    "stg_plot.set(xlim=(0,20.1), ylim=(6000,10000), xticks=[0,5,10,15,20.1], yticks=[6229,7000, 8000,9000,10000]);\n",
    "fig = stg_plot.get_figure()\n",
    "fig.savefig(\"C:\\\\SCHOOL\\\\Geog572\\\\Lab2\\\\Data\\\\Stage2_ElevationPlot.svg\")"
   ]
  },
  {
   "cell_type": "markdown",
   "metadata": {},
   "source": [
    "## Stage 3"
   ]
  },
  {
   "cell_type": "code",
   "execution_count": 10,
   "metadata": {
    "scrolled": false
   },
   "outputs": [
    {
     "data": {
      "text/html": [
       "<div>\n",
       "<style scoped>\n",
       "    .dataframe tbody tr th:only-of-type {\n",
       "        vertical-align: middle;\n",
       "    }\n",
       "\n",
       "    .dataframe tbody tr th {\n",
       "        vertical-align: top;\n",
       "    }\n",
       "\n",
       "    .dataframe thead th {\n",
       "        text-align: right;\n",
       "    }\n",
       "</style>\n",
       "<table border=\"1\" class=\"dataframe\">\n",
       "  <thead>\n",
       "    <tr style=\"text-align: right;\">\n",
       "      <th></th>\n",
       "      <th>OBJECTID</th>\n",
       "      <th>FIRST_DIST</th>\n",
       "      <th>FIRST_Z</th>\n",
       "      <th>SEC_DIST</th>\n",
       "      <th>SEC_Z</th>\n",
       "      <th>LINE_ID</th>\n",
       "      <th>SRC_TYPE</th>\n",
       "      <th>SRC_ID</th>\n",
       "      <th>SRC_NAME</th>\n",
       "    </tr>\n",
       "  </thead>\n",
       "  <tbody>\n",
       "    <tr>\n",
       "      <th>50827</th>\n",
       "      <td>-1</td>\n",
       "      <td>0.000000</td>\n",
       "      <td>6388.359896</td>\n",
       "      <td>NaN</td>\n",
       "      <td>NaN</td>\n",
       "      <td>5</td>\n",
       "      <td>Surface</td>\n",
       "      <td>NaN</td>\n",
       "      <td>C__SCHOOL_Geog572_Lab2_Geography572_Lab2_gdb_U...</td>\n",
       "    </tr>\n",
       "    <tr>\n",
       "      <th>50828</th>\n",
       "      <td>-1</td>\n",
       "      <td>0.003063</td>\n",
       "      <td>6389.440000</td>\n",
       "      <td>NaN</td>\n",
       "      <td>NaN</td>\n",
       "      <td>5</td>\n",
       "      <td>Surface</td>\n",
       "      <td>NaN</td>\n",
       "      <td>C__SCHOOL_Geog572_Lab2_Geography572_Lab2_gdb_U...</td>\n",
       "    </tr>\n",
       "    <tr>\n",
       "      <th>50829</th>\n",
       "      <td>-1</td>\n",
       "      <td>0.004780</td>\n",
       "      <td>6389.440000</td>\n",
       "      <td>NaN</td>\n",
       "      <td>NaN</td>\n",
       "      <td>5</td>\n",
       "      <td>Surface</td>\n",
       "      <td>NaN</td>\n",
       "      <td>C__SCHOOL_Geog572_Lab2_Geography572_Lab2_gdb_U...</td>\n",
       "    </tr>\n",
       "    <tr>\n",
       "      <th>50830</th>\n",
       "      <td>-1</td>\n",
       "      <td>0.005147</td>\n",
       "      <td>6389.440000</td>\n",
       "      <td>NaN</td>\n",
       "      <td>NaN</td>\n",
       "      <td>5</td>\n",
       "      <td>Surface</td>\n",
       "      <td>NaN</td>\n",
       "      <td>C__SCHOOL_Geog572_Lab2_Geography572_Lab2_gdb_U...</td>\n",
       "    </tr>\n",
       "    <tr>\n",
       "      <th>50831</th>\n",
       "      <td>-1</td>\n",
       "      <td>0.005391</td>\n",
       "      <td>6389.440000</td>\n",
       "      <td>NaN</td>\n",
       "      <td>NaN</td>\n",
       "      <td>5</td>\n",
       "      <td>Surface</td>\n",
       "      <td>NaN</td>\n",
       "      <td>C__SCHOOL_Geog572_Lab2_Geography572_Lab2_gdb_U...</td>\n",
       "    </tr>\n",
       "  </tbody>\n",
       "</table>\n",
       "</div>"
      ],
      "text/plain": [
       "       OBJECTID  FIRST_DIST      FIRST_Z  SEC_DIST  SEC_Z  LINE_ID SRC_TYPE  \\\n",
       "50827        -1    0.000000  6388.359896       NaN    NaN        5  Surface   \n",
       "50828        -1    0.003063  6389.440000       NaN    NaN        5  Surface   \n",
       "50829        -1    0.004780  6389.440000       NaN    NaN        5  Surface   \n",
       "50830        -1    0.005147  6389.440000       NaN    NaN        5  Surface   \n",
       "50831        -1    0.005391  6389.440000       NaN    NaN        5  Surface   \n",
       "\n",
       "       SRC_ID                                           SRC_NAME  \n",
       "50827     NaN  C__SCHOOL_Geog572_Lab2_Geography572_Lab2_gdb_U...  \n",
       "50828     NaN  C__SCHOOL_Geog572_Lab2_Geography572_Lab2_gdb_U...  \n",
       "50829     NaN  C__SCHOOL_Geog572_Lab2_Geography572_Lab2_gdb_U...  \n",
       "50830     NaN  C__SCHOOL_Geog572_Lab2_Geography572_Lab2_gdb_U...  \n",
       "50831     NaN  C__SCHOOL_Geog572_Lab2_Geography572_Lab2_gdb_U...  "
      ]
     },
     "execution_count": 10,
     "metadata": {},
     "output_type": "execute_result"
    }
   ],
   "source": [
    "stg = evPro[(evPro.LINE_ID == 5)]\n",
    "stg.head()"
   ]
  },
  {
   "cell_type": "code",
   "execution_count": 11,
   "metadata": {
    "scrolled": false
   },
   "outputs": [
    {
     "data": {
      "image/png": "[encoded data removed]",
      "text/plain": [
       "<Figure size 432x288 with 1 Axes>"
      ]
     },
     "metadata": {},
     "output_type": "display_data"
    }
   ],
   "source": [
    "sns.set_style(\"dark\")\n",
    "stg_plot = sns.lineplot(x=\"FIRST_DIST\", y=\"FIRST_Z\", data=stg)\n",
    "stg_plot.set(xlim=(0,18.4), ylim=(6000,10000), xticks=[0,5,10,15,18.4], yticks=[6229,7000, 8000,9000,10000]);\n",
    "fig = stg_plot.get_figure()\n",
    "fig.savefig(\"C:\\\\SCHOOL\\\\Geog572\\\\Lab2\\\\Data\\\\Stage3_ElevationPlot.svg\")"
   ]
  },
  {
   "cell_type": "markdown",
   "metadata": {},
   "source": [
    "## Stage 4"
   ]
  },
  {
   "cell_type": "code",
   "execution_count": 12,
   "metadata": {
    "scrolled": false
   },
   "outputs": [
    {
     "data": {
      "text/html": [
       "<div>\n",
       "<style scoped>\n",
       "    .dataframe tbody tr th:only-of-type {\n",
       "        vertical-align: middle;\n",
       "    }\n",
       "\n",
       "    .dataframe tbody tr th {\n",
       "        vertical-align: top;\n",
       "    }\n",
       "\n",
       "    .dataframe thead th {\n",
       "        text-align: right;\n",
       "    }\n",
       "</style>\n",
       "<table border=\"1\" class=\"dataframe\">\n",
       "  <thead>\n",
       "    <tr style=\"text-align: right;\">\n",
       "      <th></th>\n",
       "      <th>OBJECTID</th>\n",
       "      <th>FIRST_DIST</th>\n",
       "      <th>FIRST_Z</th>\n",
       "      <th>SEC_DIST</th>\n",
       "      <th>SEC_Z</th>\n",
       "      <th>LINE_ID</th>\n",
       "      <th>SRC_TYPE</th>\n",
       "      <th>SRC_ID</th>\n",
       "      <th>SRC_NAME</th>\n",
       "    </tr>\n",
       "  </thead>\n",
       "  <tbody>\n",
       "    <tr>\n",
       "      <th>83621</th>\n",
       "      <td>-1</td>\n",
       "      <td>0.000000</td>\n",
       "      <td>7289.161712</td>\n",
       "      <td>NaN</td>\n",
       "      <td>NaN</td>\n",
       "      <td>6</td>\n",
       "      <td>Surface</td>\n",
       "      <td>NaN</td>\n",
       "      <td>C__SCHOOL_Geog572_Lab2_Geography572_Lab2_gdb_U...</td>\n",
       "    </tr>\n",
       "    <tr>\n",
       "      <th>83622</th>\n",
       "      <td>-1</td>\n",
       "      <td>0.003583</td>\n",
       "      <td>7287.935648</td>\n",
       "      <td>NaN</td>\n",
       "      <td>NaN</td>\n",
       "      <td>6</td>\n",
       "      <td>Surface</td>\n",
       "      <td>NaN</td>\n",
       "      <td>C__SCHOOL_Geog572_Lab2_Geography572_Lab2_gdb_U...</td>\n",
       "    </tr>\n",
       "    <tr>\n",
       "      <th>83623</th>\n",
       "      <td>-1</td>\n",
       "      <td>0.007166</td>\n",
       "      <td>7286.709912</td>\n",
       "      <td>NaN</td>\n",
       "      <td>NaN</td>\n",
       "      <td>6</td>\n",
       "      <td>Surface</td>\n",
       "      <td>NaN</td>\n",
       "      <td>C__SCHOOL_Geog572_Lab2_Geography572_Lab2_gdb_U...</td>\n",
       "    </tr>\n",
       "    <tr>\n",
       "      <th>83624</th>\n",
       "      <td>-1</td>\n",
       "      <td>0.009389</td>\n",
       "      <td>7285.947968</td>\n",
       "      <td>NaN</td>\n",
       "      <td>NaN</td>\n",
       "      <td>6</td>\n",
       "      <td>Surface</td>\n",
       "      <td>NaN</td>\n",
       "      <td>C__SCHOOL_Geog572_Lab2_Geography572_Lab2_gdb_U...</td>\n",
       "    </tr>\n",
       "    <tr>\n",
       "      <th>83625</th>\n",
       "      <td>-1</td>\n",
       "      <td>0.009883</td>\n",
       "      <td>7285.780360</td>\n",
       "      <td>NaN</td>\n",
       "      <td>NaN</td>\n",
       "      <td>6</td>\n",
       "      <td>Surface</td>\n",
       "      <td>NaN</td>\n",
       "      <td>C__SCHOOL_Geog572_Lab2_Geography572_Lab2_gdb_U...</td>\n",
       "    </tr>\n",
       "  </tbody>\n",
       "</table>\n",
       "</div>"
      ],
      "text/plain": [
       "       OBJECTID  FIRST_DIST      FIRST_Z  SEC_DIST  SEC_Z  LINE_ID SRC_TYPE  \\\n",
       "83621        -1    0.000000  7289.161712       NaN    NaN        6  Surface   \n",
       "83622        -1    0.003583  7287.935648       NaN    NaN        6  Surface   \n",
       "83623        -1    0.007166  7286.709912       NaN    NaN        6  Surface   \n",
       "83624        -1    0.009389  7285.947968       NaN    NaN        6  Surface   \n",
       "83625        -1    0.009883  7285.780360       NaN    NaN        6  Surface   \n",
       "\n",
       "       SRC_ID                                           SRC_NAME  \n",
       "83621     NaN  C__SCHOOL_Geog572_Lab2_Geography572_Lab2_gdb_U...  \n",
       "83622     NaN  C__SCHOOL_Geog572_Lab2_Geography572_Lab2_gdb_U...  \n",
       "83623     NaN  C__SCHOOL_Geog572_Lab2_Geography572_Lab2_gdb_U...  \n",
       "83624     NaN  C__SCHOOL_Geog572_Lab2_Geography572_Lab2_gdb_U...  \n",
       "83625     NaN  C__SCHOOL_Geog572_Lab2_Geography572_Lab2_gdb_U...  "
      ]
     },
     "execution_count": 12,
     "metadata": {},
     "output_type": "execute_result"
    }
   ],
   "source": [
    "stg = evPro[(evPro.LINE_ID == 6)]\n",
    "stg.head()"
   ]
  },
  {
   "cell_type": "code",
   "execution_count": 13,
   "metadata": {
    "scrolled": false
   },
   "outputs": [
    {
     "data": {
      "image/png": "[encoded data removed]",
      "text/plain": [
       "<Figure size 432x288 with 1 Axes>"
      ]
     },
     "metadata": {},
     "output_type": "display_data"
    }
   ],
   "source": [
    "sns.set_style(\"dark\")\n",
    "stg_plot = sns.lineplot(x=\"FIRST_DIST\", y=\"FIRST_Z\", data=stg)\n",
    "stg_plot.set(xlim=(0,32.2), ylim=(6000,10000), xticks=[0,5,10,15,20,25,32.2], yticks=[6229,7000, 8000,9000,10000]);\n",
    "fig = stg_plot.get_figure()\n",
    "fig.savefig(\"C:\\\\SCHOOL\\\\Geog572\\\\Lab2\\\\Data\\\\Stage4_ElevationPlot.svg\")"
   ]
  },
  {
   "cell_type": "markdown",
   "metadata": {},
   "source": [
    "## Stage 5"
   ]
  },
  {
   "cell_type": "code",
   "execution_count": 14,
   "metadata": {
    "scrolled": false
   },
   "outputs": [
    {
     "data": {
      "text/html": [
       "<div>\n",
       "<style scoped>\n",
       "    .dataframe tbody tr th:only-of-type {\n",
       "        vertical-align: middle;\n",
       "    }\n",
       "\n",
       "    .dataframe tbody tr th {\n",
       "        vertical-align: top;\n",
       "    }\n",
       "\n",
       "    .dataframe thead th {\n",
       "        text-align: right;\n",
       "    }\n",
       "</style>\n",
       "<table border=\"1\" class=\"dataframe\">\n",
       "  <thead>\n",
       "    <tr style=\"text-align: right;\">\n",
       "      <th></th>\n",
       "      <th>OBJECTID</th>\n",
       "      <th>FIRST_DIST</th>\n",
       "      <th>FIRST_Z</th>\n",
       "      <th>SEC_DIST</th>\n",
       "      <th>SEC_Z</th>\n",
       "      <th>LINE_ID</th>\n",
       "      <th>SRC_TYPE</th>\n",
       "      <th>SRC_ID</th>\n",
       "      <th>SRC_NAME</th>\n",
       "    </tr>\n",
       "  </thead>\n",
       "  <tbody>\n",
       "    <tr>\n",
       "      <th>112850</th>\n",
       "      <td>-1</td>\n",
       "      <td>0.000000</td>\n",
       "      <td>6227.531656</td>\n",
       "      <td>NaN</td>\n",
       "      <td>NaN</td>\n",
       "      <td>7</td>\n",
       "      <td>Surface</td>\n",
       "      <td>NaN</td>\n",
       "      <td>C__SCHOOL_Geog572_Lab2_Geography572_Lab2_gdb_U...</td>\n",
       "    </tr>\n",
       "    <tr>\n",
       "      <th>112851</th>\n",
       "      <td>-1</td>\n",
       "      <td>0.005254</td>\n",
       "      <td>6228.279168</td>\n",
       "      <td>NaN</td>\n",
       "      <td>NaN</td>\n",
       "      <td>7</td>\n",
       "      <td>Surface</td>\n",
       "      <td>NaN</td>\n",
       "      <td>C__SCHOOL_Geog572_Lab2_Geography572_Lab2_gdb_U...</td>\n",
       "    </tr>\n",
       "    <tr>\n",
       "      <th>112852</th>\n",
       "      <td>-1</td>\n",
       "      <td>0.010509</td>\n",
       "      <td>6228.720000</td>\n",
       "      <td>NaN</td>\n",
       "      <td>NaN</td>\n",
       "      <td>7</td>\n",
       "      <td>Surface</td>\n",
       "      <td>NaN</td>\n",
       "      <td>C__SCHOOL_Geog572_Lab2_Geography572_Lab2_gdb_U...</td>\n",
       "    </tr>\n",
       "    <tr>\n",
       "      <th>112853</th>\n",
       "      <td>-1</td>\n",
       "      <td>0.012858</td>\n",
       "      <td>6228.720000</td>\n",
       "      <td>NaN</td>\n",
       "      <td>NaN</td>\n",
       "      <td>7</td>\n",
       "      <td>Surface</td>\n",
       "      <td>NaN</td>\n",
       "      <td>C__SCHOOL_Geog572_Lab2_Geography572_Lab2_gdb_U...</td>\n",
       "    </tr>\n",
       "    <tr>\n",
       "      <th>112854</th>\n",
       "      <td>-1</td>\n",
       "      <td>0.013229</td>\n",
       "      <td>6228.720000</td>\n",
       "      <td>NaN</td>\n",
       "      <td>NaN</td>\n",
       "      <td>7</td>\n",
       "      <td>Surface</td>\n",
       "      <td>NaN</td>\n",
       "      <td>C__SCHOOL_Geog572_Lab2_Geography572_Lab2_gdb_U...</td>\n",
       "    </tr>\n",
       "  </tbody>\n",
       "</table>\n",
       "</div>"
      ],
      "text/plain": [
       "        OBJECTID  FIRST_DIST      FIRST_Z  SEC_DIST  SEC_Z  LINE_ID SRC_TYPE  \\\n",
       "112850        -1    0.000000  6227.531656       NaN    NaN        7  Surface   \n",
       "112851        -1    0.005254  6228.279168       NaN    NaN        7  Surface   \n",
       "112852        -1    0.010509  6228.720000       NaN    NaN        7  Surface   \n",
       "112853        -1    0.012858  6228.720000       NaN    NaN        7  Surface   \n",
       "112854        -1    0.013229  6228.720000       NaN    NaN        7  Surface   \n",
       "\n",
       "        SRC_ID                                           SRC_NAME  \n",
       "112850     NaN  C__SCHOOL_Geog572_Lab2_Geography572_Lab2_gdb_U...  \n",
       "112851     NaN  C__SCHOOL_Geog572_Lab2_Geography572_Lab2_gdb_U...  \n",
       "112852     NaN  C__SCHOOL_Geog572_Lab2_Geography572_Lab2_gdb_U...  \n",
       "112853     NaN  C__SCHOOL_Geog572_Lab2_Geography572_Lab2_gdb_U...  \n",
       "112854     NaN  C__SCHOOL_Geog572_Lab2_Geography572_Lab2_gdb_U...  "
      ]
     },
     "execution_count": 14,
     "metadata": {},
     "output_type": "execute_result"
    }
   ],
   "source": [
    "stg = evPro[(evPro.LINE_ID == 7)]\n",
    "stg.head()"
   ]
  },
  {
   "cell_type": "code",
   "execution_count": 15,
   "metadata": {
    "scrolled": false
   },
   "outputs": [
    {
     "data": {
      "image/png": "[encoded data removed]",
      "text/plain": [
       "<Figure size 432x288 with 1 Axes>"
      ]
     },
     "metadata": {},
     "output_type": "display_data"
    }
   ],
   "source": [
    "sns.set_style(\"dark\")\n",
    "stg_plot = sns.lineplot(x=\"FIRST_DIST\", y=\"FIRST_Z\", data=stg)\n",
    "stg_plot.set(xlim=(0,15.2), ylim=(6000,10000), xticks=[0,5,10,15.2], yticks=[6229,7000, 8000,9000,10000]);\n",
    "fig = stg_plot.get_figure()\n",
    "fig.savefig(\"C:\\\\SCHOOL\\\\Geog572\\\\Lab2\\\\Data\\\\Stage5_ElevationPlot.svg\")"
   ]
  },
  {
   "cell_type": "markdown",
   "metadata": {},
   "source": [
    "## Stage 6"
   ]
  },
  {
   "cell_type": "code",
   "execution_count": 16,
   "metadata": {
    "scrolled": false
   },
   "outputs": [
    {
     "data": {
      "text/html": [
       "<div>\n",
       "<style scoped>\n",
       "    .dataframe tbody tr th:only-of-type {\n",
       "        vertical-align: middle;\n",
       "    }\n",
       "\n",
       "    .dataframe tbody tr th {\n",
       "        vertical-align: top;\n",
       "    }\n",
       "\n",
       "    .dataframe thead th {\n",
       "        text-align: right;\n",
       "    }\n",
       "</style>\n",
       "<table border=\"1\" class=\"dataframe\">\n",
       "  <thead>\n",
       "    <tr style=\"text-align: right;\">\n",
       "      <th></th>\n",
       "      <th>OBJECTID</th>\n",
       "      <th>FIRST_DIST</th>\n",
       "      <th>FIRST_Z</th>\n",
       "      <th>SEC_DIST</th>\n",
       "      <th>SEC_Z</th>\n",
       "      <th>LINE_ID</th>\n",
       "      <th>SRC_TYPE</th>\n",
       "      <th>SRC_ID</th>\n",
       "      <th>SRC_NAME</th>\n",
       "    </tr>\n",
       "  </thead>\n",
       "  <tbody>\n",
       "    <tr>\n",
       "      <th>124424</th>\n",
       "      <td>-1</td>\n",
       "      <td>0.000000</td>\n",
       "      <td>6327.12000</td>\n",
       "      <td>NaN</td>\n",
       "      <td>NaN</td>\n",
       "      <td>9</td>\n",
       "      <td>Surface</td>\n",
       "      <td>NaN</td>\n",
       "      <td>C__SCHOOL_Geog572_Lab2_Geography572_Lab2_gdb_U...</td>\n",
       "    </tr>\n",
       "    <tr>\n",
       "      <th>124425</th>\n",
       "      <td>-1</td>\n",
       "      <td>0.005969</td>\n",
       "      <td>6327.12000</td>\n",
       "      <td>NaN</td>\n",
       "      <td>NaN</td>\n",
       "      <td>9</td>\n",
       "      <td>Surface</td>\n",
       "      <td>NaN</td>\n",
       "      <td>C__SCHOOL_Geog572_Lab2_Geography572_Lab2_gdb_U...</td>\n",
       "    </tr>\n",
       "    <tr>\n",
       "      <th>124426</th>\n",
       "      <td>-1</td>\n",
       "      <td>0.011939</td>\n",
       "      <td>6327.12000</td>\n",
       "      <td>NaN</td>\n",
       "      <td>NaN</td>\n",
       "      <td>9</td>\n",
       "      <td>Surface</td>\n",
       "      <td>NaN</td>\n",
       "      <td>C__SCHOOL_Geog572_Lab2_Geography572_Lab2_gdb_U...</td>\n",
       "    </tr>\n",
       "    <tr>\n",
       "      <th>124427</th>\n",
       "      <td>-1</td>\n",
       "      <td>0.017908</td>\n",
       "      <td>6327.12000</td>\n",
       "      <td>NaN</td>\n",
       "      <td>NaN</td>\n",
       "      <td>9</td>\n",
       "      <td>Surface</td>\n",
       "      <td>NaN</td>\n",
       "      <td>C__SCHOOL_Geog572_Lab2_Geography572_Lab2_gdb_U...</td>\n",
       "    </tr>\n",
       "    <tr>\n",
       "      <th>124428</th>\n",
       "      <td>-1</td>\n",
       "      <td>0.023878</td>\n",
       "      <td>6329.24052</td>\n",
       "      <td>NaN</td>\n",
       "      <td>NaN</td>\n",
       "      <td>9</td>\n",
       "      <td>Surface</td>\n",
       "      <td>NaN</td>\n",
       "      <td>C__SCHOOL_Geog572_Lab2_Geography572_Lab2_gdb_U...</td>\n",
       "    </tr>\n",
       "  </tbody>\n",
       "</table>\n",
       "</div>"
      ],
      "text/plain": [
       "        OBJECTID  FIRST_DIST     FIRST_Z  SEC_DIST  SEC_Z  LINE_ID SRC_TYPE  \\\n",
       "124424        -1    0.000000  6327.12000       NaN    NaN        9  Surface   \n",
       "124425        -1    0.005969  6327.12000       NaN    NaN        9  Surface   \n",
       "124426        -1    0.011939  6327.12000       NaN    NaN        9  Surface   \n",
       "124427        -1    0.017908  6327.12000       NaN    NaN        9  Surface   \n",
       "124428        -1    0.023878  6329.24052       NaN    NaN        9  Surface   \n",
       "\n",
       "        SRC_ID                                           SRC_NAME  \n",
       "124424     NaN  C__SCHOOL_Geog572_Lab2_Geography572_Lab2_gdb_U...  \n",
       "124425     NaN  C__SCHOOL_Geog572_Lab2_Geography572_Lab2_gdb_U...  \n",
       "124426     NaN  C__SCHOOL_Geog572_Lab2_Geography572_Lab2_gdb_U...  \n",
       "124427     NaN  C__SCHOOL_Geog572_Lab2_Geography572_Lab2_gdb_U...  \n",
       "124428     NaN  C__SCHOOL_Geog572_Lab2_Geography572_Lab2_gdb_U...  "
      ]
     },
     "execution_count": 16,
     "metadata": {},
     "output_type": "execute_result"
    }
   ],
   "source": [
    "stg = evPro[(evPro.LINE_ID == 9)]\n",
    "stg.head()"
   ]
  },
  {
   "cell_type": "code",
   "execution_count": 17,
   "metadata": {
    "scrolled": false
   },
   "outputs": [
    {
     "data": {
      "image/png": "[encoded data removed]",
      "text/plain": [
       "<Figure size 432x288 with 1 Axes>"
      ]
     },
     "metadata": {},
     "output_type": "display_data"
    }
   ],
   "source": [
    "sns.set_style(\"dark\")\n",
    "stg_plot = sns.lineplot(x=\"FIRST_DIST\", y=\"FIRST_Z\", data=stg)\n",
    "stg_plot.set(xlim=(0,29.9), ylim=(6000,10000), xticks=[0,5,10,15,20,25,29.9], yticks=[6229,7000, 8000,9000,10000]);\n",
    "fig = stg_plot.get_figure()\n",
    "fig.savefig(\"C:\\\\SCHOOL\\\\Geog572\\\\Lab2\\\\Data\\\\Stage6_ElevationPlot.svg\")"
   ]
  },
  {
   "cell_type": "markdown",
   "metadata": {},
   "source": [
    "## Stage 7"
   ]
  },
  {
   "cell_type": "code",
   "execution_count": 28,
   "metadata": {
    "scrolled": false
   },
   "outputs": [
    {
     "data": {
      "text/html": [
       "<div>\n",
       "<style scoped>\n",
       "    .dataframe tbody tr th:only-of-type {\n",
       "        vertical-align: middle;\n",
       "    }\n",
       "\n",
       "    .dataframe tbody tr th {\n",
       "        vertical-align: top;\n",
       "    }\n",
       "\n",
       "    .dataframe thead th {\n",
       "        text-align: right;\n",
       "    }\n",
       "</style>\n",
       "<table border=\"1\" class=\"dataframe\">\n",
       "  <thead>\n",
       "    <tr style=\"text-align: right;\">\n",
       "      <th></th>\n",
       "      <th>OBJECTID</th>\n",
       "      <th>FIRST_DIST</th>\n",
       "      <th>FIRST_Z</th>\n",
       "      <th>SEC_DIST</th>\n",
       "      <th>SEC_Z</th>\n",
       "      <th>LINE_ID</th>\n",
       "      <th>SRC_TYPE</th>\n",
       "      <th>SRC_ID</th>\n",
       "      <th>SRC_NAME</th>\n",
       "    </tr>\n",
       "  </thead>\n",
       "  <tbody>\n",
       "    <tr>\n",
       "      <th>199888</th>\n",
       "      <td>-1</td>\n",
       "      <td>0.000000</td>\n",
       "      <td>6305.653384</td>\n",
       "      <td>NaN</td>\n",
       "      <td>NaN</td>\n",
       "      <td>15</td>\n",
       "      <td>Surface</td>\n",
       "      <td>NaN</td>\n",
       "      <td>C__SCHOOL_Geog572_Lab2_Geography572_Lab2_gdb_U...</td>\n",
       "    </tr>\n",
       "    <tr>\n",
       "      <th>199889</th>\n",
       "      <td>-1</td>\n",
       "      <td>0.004621</td>\n",
       "      <td>6307.985136</td>\n",
       "      <td>NaN</td>\n",
       "      <td>NaN</td>\n",
       "      <td>15</td>\n",
       "      <td>Surface</td>\n",
       "      <td>NaN</td>\n",
       "      <td>C__SCHOOL_Geog572_Lab2_Geography572_Lab2_gdb_U...</td>\n",
       "    </tr>\n",
       "    <tr>\n",
       "      <th>199890</th>\n",
       "      <td>-1</td>\n",
       "      <td>0.009242</td>\n",
       "      <td>6309.055400</td>\n",
       "      <td>NaN</td>\n",
       "      <td>NaN</td>\n",
       "      <td>15</td>\n",
       "      <td>Surface</td>\n",
       "      <td>NaN</td>\n",
       "      <td>C__SCHOOL_Geog572_Lab2_Geography572_Lab2_gdb_U...</td>\n",
       "    </tr>\n",
       "    <tr>\n",
       "      <th>199891</th>\n",
       "      <td>-1</td>\n",
       "      <td>0.011830</td>\n",
       "      <td>6309.512632</td>\n",
       "      <td>NaN</td>\n",
       "      <td>NaN</td>\n",
       "      <td>15</td>\n",
       "      <td>Surface</td>\n",
       "      <td>NaN</td>\n",
       "      <td>C__SCHOOL_Geog572_Lab2_Geography572_Lab2_gdb_U...</td>\n",
       "    </tr>\n",
       "    <tr>\n",
       "      <th>199892</th>\n",
       "      <td>-1</td>\n",
       "      <td>0.012076</td>\n",
       "      <td>6309.552648</td>\n",
       "      <td>NaN</td>\n",
       "      <td>NaN</td>\n",
       "      <td>15</td>\n",
       "      <td>Surface</td>\n",
       "      <td>NaN</td>\n",
       "      <td>C__SCHOOL_Geog572_Lab2_Geography572_Lab2_gdb_U...</td>\n",
       "    </tr>\n",
       "  </tbody>\n",
       "</table>\n",
       "</div>"
      ],
      "text/plain": [
       "        OBJECTID  FIRST_DIST      FIRST_Z  SEC_DIST  SEC_Z  LINE_ID SRC_TYPE  \\\n",
       "199888        -1    0.000000  6305.653384       NaN    NaN       15  Surface   \n",
       "199889        -1    0.004621  6307.985136       NaN    NaN       15  Surface   \n",
       "199890        -1    0.009242  6309.055400       NaN    NaN       15  Surface   \n",
       "199891        -1    0.011830  6309.512632       NaN    NaN       15  Surface   \n",
       "199892        -1    0.012076  6309.552648       NaN    NaN       15  Surface   \n",
       "\n",
       "        SRC_ID                                           SRC_NAME  \n",
       "199888     NaN  C__SCHOOL_Geog572_Lab2_Geography572_Lab2_gdb_U...  \n",
       "199889     NaN  C__SCHOOL_Geog572_Lab2_Geography572_Lab2_gdb_U...  \n",
       "199890     NaN  C__SCHOOL_Geog572_Lab2_Geography572_Lab2_gdb_U...  \n",
       "199891     NaN  C__SCHOOL_Geog572_Lab2_Geography572_Lab2_gdb_U...  \n",
       "199892     NaN  C__SCHOOL_Geog572_Lab2_Geography572_Lab2_gdb_U...  "
      ]
     },
     "execution_count": 28,
     "metadata": {},
     "output_type": "execute_result"
    }
   ],
   "source": [
    "stg = evPro[(evPro.LINE_ID == 15)]\n",
    "stg.head()"
   ]
  },
  {
   "cell_type": "code",
   "execution_count": 29,
   "metadata": {
    "scrolled": false
   },
   "outputs": [
    {
     "data": {
      "image/png": "[encoded data removed]",
      "text/plain": [
       "<Figure size 432x288 with 1 Axes>"
      ]
     },
     "metadata": {},
     "output_type": "display_data"
    }
   ],
   "source": [
    "sns.set_style(\"dark\")\n",
    "stg_plot = sns.lineplot(x=\"FIRST_DIST\", y=\"FIRST_Z\", data=stg)\n",
    "stg_plot.set(xlim=(0,32.7), ylim=(6000,10000), xticks=[0,5,10,15,20,25,32.7], yticks=[6229,7000, 8000,9000,10000]);\n",
    "fig = stg_plot.get_figure()\n",
    "fig.savefig(\"C:\\\\SCHOOL\\\\Geog572\\\\Lab2\\\\Data\\\\Stage7_ElevationPlot.svg\")"
   ]
  },
  {
   "cell_type": "markdown",
   "metadata": {},
   "source": [
    "## Stage 8"
   ]
  },
  {
   "cell_type": "code",
   "execution_count": 32,
   "metadata": {
    "scrolled": true
   },
   "outputs": [
    {
     "data": {
      "text/html": [
       "<div>\n",
       "<style scoped>\n",
       "    .dataframe tbody tr th:only-of-type {\n",
       "        vertical-align: middle;\n",
       "    }\n",
       "\n",
       "    .dataframe tbody tr th {\n",
       "        vertical-align: top;\n",
       "    }\n",
       "\n",
       "    .dataframe thead th {\n",
       "        text-align: right;\n",
       "    }\n",
       "</style>\n",
       "<table border=\"1\" class=\"dataframe\">\n",
       "  <thead>\n",
       "    <tr style=\"text-align: right;\">\n",
       "      <th></th>\n",
       "      <th>OBJECTID</th>\n",
       "      <th>FIRST_DIST</th>\n",
       "      <th>FIRST_Z</th>\n",
       "      <th>SEC_DIST</th>\n",
       "      <th>SEC_Z</th>\n",
       "      <th>LINE_ID</th>\n",
       "      <th>SRC_TYPE</th>\n",
       "      <th>SRC_ID</th>\n",
       "      <th>SRC_NAME</th>\n",
       "    </tr>\n",
       "  </thead>\n",
       "  <tbody>\n",
       "    <tr>\n",
       "      <th>152110</th>\n",
       "      <td>-1</td>\n",
       "      <td>0.000000</td>\n",
       "      <td>8199.841248</td>\n",
       "      <td>NaN</td>\n",
       "      <td>NaN</td>\n",
       "      <td>13</td>\n",
       "      <td>Surface</td>\n",
       "      <td>NaN</td>\n",
       "      <td>C__SCHOOL_Geog572_Lab2_Geography572_Lab2_gdb_U...</td>\n",
       "    </tr>\n",
       "    <tr>\n",
       "      <th>152111</th>\n",
       "      <td>-1</td>\n",
       "      <td>0.005551</td>\n",
       "      <td>8198.995664</td>\n",
       "      <td>NaN</td>\n",
       "      <td>NaN</td>\n",
       "      <td>13</td>\n",
       "      <td>Surface</td>\n",
       "      <td>NaN</td>\n",
       "      <td>C__SCHOOL_Geog572_Lab2_Geography572_Lab2_gdb_U...</td>\n",
       "    </tr>\n",
       "    <tr>\n",
       "      <th>152112</th>\n",
       "      <td>-1</td>\n",
       "      <td>0.011101</td>\n",
       "      <td>8198.499400</td>\n",
       "      <td>NaN</td>\n",
       "      <td>NaN</td>\n",
       "      <td>13</td>\n",
       "      <td>Surface</td>\n",
       "      <td>NaN</td>\n",
       "      <td>C__SCHOOL_Geog572_Lab2_Geography572_Lab2_gdb_U...</td>\n",
       "    </tr>\n",
       "    <tr>\n",
       "      <th>152113</th>\n",
       "      <td>-1</td>\n",
       "      <td>0.017037</td>\n",
       "      <td>8198.399688</td>\n",
       "      <td>NaN</td>\n",
       "      <td>NaN</td>\n",
       "      <td>13</td>\n",
       "      <td>Surface</td>\n",
       "      <td>NaN</td>\n",
       "      <td>C__SCHOOL_Geog572_Lab2_Geography572_Lab2_gdb_U...</td>\n",
       "    </tr>\n",
       "    <tr>\n",
       "      <th>152114</th>\n",
       "      <td>-1</td>\n",
       "      <td>0.017408</td>\n",
       "      <td>8198.634208</td>\n",
       "      <td>NaN</td>\n",
       "      <td>NaN</td>\n",
       "      <td>13</td>\n",
       "      <td>Surface</td>\n",
       "      <td>NaN</td>\n",
       "      <td>C__SCHOOL_Geog572_Lab2_Geography572_Lab2_gdb_U...</td>\n",
       "    </tr>\n",
       "  </tbody>\n",
       "</table>\n",
       "</div>"
      ],
      "text/plain": [
       "        OBJECTID  FIRST_DIST      FIRST_Z  SEC_DIST  SEC_Z  LINE_ID SRC_TYPE  \\\n",
       "152110        -1    0.000000  8199.841248       NaN    NaN       13  Surface   \n",
       "152111        -1    0.005551  8198.995664       NaN    NaN       13  Surface   \n",
       "152112        -1    0.011101  8198.499400       NaN    NaN       13  Surface   \n",
       "152113        -1    0.017037  8198.399688       NaN    NaN       13  Surface   \n",
       "152114        -1    0.017408  8198.634208       NaN    NaN       13  Surface   \n",
       "\n",
       "        SRC_ID                                           SRC_NAME  \n",
       "152110     NaN  C__SCHOOL_Geog572_Lab2_Geography572_Lab2_gdb_U...  \n",
       "152111     NaN  C__SCHOOL_Geog572_Lab2_Geography572_Lab2_gdb_U...  \n",
       "152112     NaN  C__SCHOOL_Geog572_Lab2_Geography572_Lab2_gdb_U...  \n",
       "152113     NaN  C__SCHOOL_Geog572_Lab2_Geography572_Lab2_gdb_U...  \n",
       "152114     NaN  C__SCHOOL_Geog572_Lab2_Geography572_Lab2_gdb_U...  "
      ]
     },
     "execution_count": 32,
     "metadata": {},
     "output_type": "execute_result"
    }
   ],
   "source": [
    "stg = evPro[(evPro.LINE_ID == 13)]\n",
    "stg.head()"
   ]
  },
  {
   "cell_type": "code",
   "execution_count": 33,
   "metadata": {
    "scrolled": false
   },
   "outputs": [
    {
     "data": {
      "image/png": "[encoded data removed]",
      "text/plain": [
       "<Figure size 432x288 with 1 Axes>"
      ]
     },
     "metadata": {},
     "output_type": "display_data"
    }
   ],
   "source": [
    "sns.set_style(\"dark\")\n",
    "stg_plot = sns.lineplot(x=\"FIRST_DIST\", y=\"FIRST_Z\", data=stg)\n",
    "stg_plot.set(xlim=(0,22.7), ylim=(6000,10000), xticks=[0,5,10,15,20,22.7], yticks=[6229,7000, 8000,9000,10000]);\n",
    "fig = stg_plot.get_figure()\n",
    "fig.savefig(\"C:\\\\SCHOOL\\\\Geog572\\\\Lab2\\\\Data\\\\Stage8_ElevationPlot.svg\")"
   ]
  },
  {
   "cell_type": "markdown",
   "metadata": {},
   "source": [
    "## Stage 9"
   ]
  },
  {
   "cell_type": "code",
   "execution_count": 30,
   "metadata": {
    "scrolled": false
   },
   "outputs": [
    {
     "data": {
      "text/html": [
       "<div>\n",
       "<style scoped>\n",
       "    .dataframe tbody tr th:only-of-type {\n",
       "        vertical-align: middle;\n",
       "    }\n",
       "\n",
       "    .dataframe tbody tr th {\n",
       "        vertical-align: top;\n",
       "    }\n",
       "\n",
       "    .dataframe thead th {\n",
       "        text-align: right;\n",
       "    }\n",
       "</style>\n",
       "<table border=\"1\" class=\"dataframe\">\n",
       "  <thead>\n",
       "    <tr style=\"text-align: right;\">\n",
       "      <th></th>\n",
       "      <th>OBJECTID</th>\n",
       "      <th>FIRST_DIST</th>\n",
       "      <th>FIRST_Z</th>\n",
       "      <th>SEC_DIST</th>\n",
       "      <th>SEC_Z</th>\n",
       "      <th>LINE_ID</th>\n",
       "      <th>SRC_TYPE</th>\n",
       "      <th>SRC_ID</th>\n",
       "      <th>SRC_NAME</th>\n",
       "    </tr>\n",
       "  </thead>\n",
       "  <tbody>\n",
       "    <tr>\n",
       "      <th>180486</th>\n",
       "      <td>-1</td>\n",
       "      <td>0.000000</td>\n",
       "      <td>7140.765984</td>\n",
       "      <td>NaN</td>\n",
       "      <td>NaN</td>\n",
       "      <td>14</td>\n",
       "      <td>Surface</td>\n",
       "      <td>NaN</td>\n",
       "      <td>C__SCHOOL_Geog572_Lab2_Geography572_Lab2_gdb_U...</td>\n",
       "    </tr>\n",
       "    <tr>\n",
       "      <th>180487</th>\n",
       "      <td>-1</td>\n",
       "      <td>0.006389</td>\n",
       "      <td>7143.409664</td>\n",
       "      <td>NaN</td>\n",
       "      <td>NaN</td>\n",
       "      <td>14</td>\n",
       "      <td>Surface</td>\n",
       "      <td>NaN</td>\n",
       "      <td>C__SCHOOL_Geog572_Lab2_Geography572_Lab2_gdb_U...</td>\n",
       "    </tr>\n",
       "    <tr>\n",
       "      <th>180488</th>\n",
       "      <td>-1</td>\n",
       "      <td>0.006757</td>\n",
       "      <td>7143.622864</td>\n",
       "      <td>NaN</td>\n",
       "      <td>NaN</td>\n",
       "      <td>14</td>\n",
       "      <td>Surface</td>\n",
       "      <td>NaN</td>\n",
       "      <td>C__SCHOOL_Geog572_Lab2_Geography572_Lab2_gdb_U...</td>\n",
       "    </tr>\n",
       "    <tr>\n",
       "      <th>180489</th>\n",
       "      <td>-1</td>\n",
       "      <td>0.007003</td>\n",
       "      <td>7143.763576</td>\n",
       "      <td>NaN</td>\n",
       "      <td>NaN</td>\n",
       "      <td>14</td>\n",
       "      <td>Surface</td>\n",
       "      <td>NaN</td>\n",
       "      <td>C__SCHOOL_Geog572_Lab2_Geography572_Lab2_gdb_U...</td>\n",
       "    </tr>\n",
       "    <tr>\n",
       "      <th>180490</th>\n",
       "      <td>-1</td>\n",
       "      <td>0.007489</td>\n",
       "      <td>7144.039096</td>\n",
       "      <td>NaN</td>\n",
       "      <td>NaN</td>\n",
       "      <td>14</td>\n",
       "      <td>Surface</td>\n",
       "      <td>NaN</td>\n",
       "      <td>C__SCHOOL_Geog572_Lab2_Geography572_Lab2_gdb_U...</td>\n",
       "    </tr>\n",
       "  </tbody>\n",
       "</table>\n",
       "</div>"
      ],
      "text/plain": [
       "        OBJECTID  FIRST_DIST      FIRST_Z  SEC_DIST  SEC_Z  LINE_ID SRC_TYPE  \\\n",
       "180486        -1    0.000000  7140.765984       NaN    NaN       14  Surface   \n",
       "180487        -1    0.006389  7143.409664       NaN    NaN       14  Surface   \n",
       "180488        -1    0.006757  7143.622864       NaN    NaN       14  Surface   \n",
       "180489        -1    0.007003  7143.763576       NaN    NaN       14  Surface   \n",
       "180490        -1    0.007489  7144.039096       NaN    NaN       14  Surface   \n",
       "\n",
       "        SRC_ID                                           SRC_NAME  \n",
       "180486     NaN  C__SCHOOL_Geog572_Lab2_Geography572_Lab2_gdb_U...  \n",
       "180487     NaN  C__SCHOOL_Geog572_Lab2_Geography572_Lab2_gdb_U...  \n",
       "180488     NaN  C__SCHOOL_Geog572_Lab2_Geography572_Lab2_gdb_U...  \n",
       "180489     NaN  C__SCHOOL_Geog572_Lab2_Geography572_Lab2_gdb_U...  \n",
       "180490     NaN  C__SCHOOL_Geog572_Lab2_Geography572_Lab2_gdb_U...  "
      ]
     },
     "execution_count": 30,
     "metadata": {},
     "output_type": "execute_result"
    }
   ],
   "source": [
    "stg = evPro[(evPro.LINE_ID == 14)]\n",
    "stg.head()"
   ]
  },
  {
   "cell_type": "code",
   "execution_count": 31,
   "metadata": {
    "scrolled": false
   },
   "outputs": [
    {
     "data": {
      "image/png": "[encoded data removed]",
      "text/plain": [
       "<Figure size 432x288 with 1 Axes>"
      ]
     },
     "metadata": {},
     "output_type": "display_data"
    }
   ],
   "source": [
    "sns.set_style(\"dark\")\n",
    "stg_plot = sns.lineplot(x=\"FIRST_DIST\", y=\"FIRST_Z\", data=stg)\n",
    "stg_plot.set(xlim=(0,16.1), ylim=(6000,10000), xticks=[0,5,10,16.1], yticks=[6229,7000, 8000,9000,10000]);\n",
    "fig = stg_plot.get_figure()\n",
    "fig.savefig(\"C:\\\\SCHOOL\\\\Geog572\\\\Lab2\\\\Data\\\\Stage9_ElevationPlot.svg\")"
   ]
  },
  {
   "cell_type": "markdown",
   "metadata": {},
   "source": [
    "### References"
   ]
  },
  {
   "cell_type": "markdown",
   "metadata": {},
   "source": [
    "### http://pro.arcgis.com/en/pro-app/tool-reference/3d-analyst/stack-profile.htm\n",
    "### https://seaborn.pydata.org/generated/seaborn.lineplot.html"
   ]
  }
 ],
 "metadata": {
  "anaconda-cloud": {},
  "kernelspec": {
   "display_name": "Python 3",
   "language": "python",
   "name": "python3"
  },
  "language_info": {
   "codemirror_mode": {
    "name": "ipython",
    "version": 3
   },
   "file_extension": ".py",
   "mimetype": "text/x-python",
   "name": "python",
   "nbconvert_exporter": "python",
   "pygments_lexer": "ipython3",
   "version": "3.6.5"
  }
 },
 "nbformat": 4,
 "nbformat_minor": 1
}
