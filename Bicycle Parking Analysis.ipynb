{
 "cells": [
  {
   "cell_type": "markdown",
   "metadata": {},
   "source": [
    "## Bicycle Parking Analysis"
   ]
  },
  {
   "cell_type": "markdown",
   "metadata": {},
   "source": [
    "#### The Tahoe Regional Planning Agency (TRPA), in conjunction with the Tahoe Metropolitan Planning Agency (TMPO), developed and adopted an Active Transportation Plan (ATP) in 2016. The ATP requires local jurisdictions within the Lake Tahoe Basin to “…construct, upgrade, and maintain pedestrian and bicycle facilities”. As part of this planning initiative, surveys conducted of stakeholders identified the need for additional bike parking at all cycling destinations (e.g. transit stops, public parks, schools, etc.). The ATP gave TRPA the authority to determine targets for local jurisdictions to increase bike parking facilities at common cycling destinations. The following analysis aims to use GIS to identify the parcels that need to be build bike parking and the amount they need to build."
   ]
  },
  {
   "cell_type": "code",
   "execution_count": 14,
   "metadata": {
    "collapsed": true
   },
   "outputs": [],
   "source": [
    "# Import system modules\n",
    "import arcpy\n",
    "# Set environment settings\n",
    "arcpy.env.workspace = \"C:/GIS/PROJECT/BicycleParking/Data/BicycleParkingAnalysis.gdb\"\n",
    "bikeRack = \"ExistingBicycleParking\"\n",
    "parcel = \"Parcel\"\n",
    "spjnParcelRack = \"spjn_Parcel_ExstngBcyclPrkng\""
   ]
  },
  {
   "cell_type": "code",
   "execution_count": 15,
   "metadata": {},
   "outputs": [
    {
     "name": "stdout",
     "output_type": "stream",
     "text": [
      "Created Field Map: APN\n",
      "Created Field Map: OWN_FULL\n",
      "Created Field Map: OWNERSHIP_TYPE\n",
      "Created Field Map: TRPA_LUC_DESCRIPTION\n",
      "Created Field Map: COUNTY_LANDUSE_DESCRIPTION\n",
      "Created Field Map: PARCEL_ACRES\n",
      "Created Field Map: TOWN_CENTER\n",
      "Created Field Map: JURISDICTION\n",
      "Created a new parcel dataset\n"
     ]
    }
   ],
   "source": [
    "# set output staging feature class\n",
    "ParcelAnalysis = \"ParcelNew\"\n",
    "\n",
    "# Create FieldMappings object to manage merge output fields\n",
    "fieldMappings = arcpy.FieldMappings()\n",
    "\n",
    "# Add all fields\n",
    "fieldMappings.addTable(parcel)\n",
    "\n",
    "\n",
    "# Remove all output fields from the field mappings, except fields in field_master list\n",
    "for field in fieldMappings.fields:\n",
    "    if field.name not in ['APN', 'OWN_FULL', 'JURISDICTION', 'OWNERSHIP_TYPE', \n",
    "                'COUNTY_LANDUSE', 'COUNTY_LANDUSE_DESCRIPTION', 'TRPA_LUC_DESCRIPTION', \n",
    "                'TOWN_CENTER', 'PARCEL_ACRES']:\n",
    "        fieldMappings.removeFieldMap(fieldMappings.findFieldMapIndex(field.name))\n",
    "for field in fieldMappings.fields:\n",
    "    print (\"Created Field Map:\", field.name)\n",
    "\n",
    "# Use Merge tool to move features into single dataset\n",
    "arcpy.Merge_management(parcel, ParcelAnalysis, fieldMappings)\n",
    "print (\"Created a new parcel dataset\")"
   ]
  },
  {
   "cell_type": "code",
   "execution_count": 16,
   "metadata": {},
   "outputs": [
    {
     "data": {
      "text/plain": [
       "<Result 'C:/GIS/PROJECT/BicycleParking/Data/BicycleParkingAnalysis.gdb\\\\ParcelNew'>"
      ]
     },
     "execution_count": 16,
     "metadata": {},
     "output_type": "execute_result"
    }
   ],
   "source": [
    "# Set local variables\n",
    "# add field for type of parcel defined in the Active Transportation Plan as \"Land Use or Location\"\n",
    "fieldName1 = \"Type\"\n",
    "fieldAlias1 = \"Type of Parcel\"\n",
    "# add field for storing the number of bike parking spots available on the parcel\n",
    "fieldName2 = \"ExistingBikeRacks\"\n",
    "fieldAlias2 = \"Existing Bike Racks\"\n",
    "fieldName3 = \"BikeRacksRequired\"\n",
    "fieldAlias3 = \"Bike Racks Required by ATP\"\n",
    "fieldName4 = \"BikeRacksNeeded\"\n",
    "fieldAlias4 = \"Bike Racks Needed\"\n",
    "fieldPrecision = 0\n",
    " \n",
    "# Execute AddField twice for two new fields\n",
    "arcpy.AddField_management(ParcelAnalysis, fieldName1, \"SHORT\", fieldPrecision, field_alias=fieldAlias1)\n",
    "arcpy.AddField_management(ParcelAnalysis, fieldName2, \"SHORT\", fieldPrecision, field_alias=fieldAlias2)\n",
    "arcpy.AddField_management(ParcelAnalysis, fieldName3, \"SHORT\", fieldPrecision, field_alias=fieldAlias3)\n",
    "arcpy.AddField_management(ParcelAnalysis, fieldName4, \"SHORT\", fieldPrecision, field_alias=fieldAlias4)\n"
   ]
  },
  {
   "cell_type": "code",
   "execution_count": 2,
   "metadata": {},
   "outputs": [
    {
     "data": {
      "text/plain": [
       "<Result 'C:\\\\GIS\\\\PROJECT\\\\BikeMap\\\\Data\\\\BicycleParkingAnalysis.gdb\\\\spjn_Parcel_BikeRack'>"
      ]
     },
     "execution_count": 2,
     "metadata": {},
     "output_type": "execute_result"
    }
   ],
   "source": [
    "# spatially join bike racks to parcels\n",
    "arcpy.SpatialJoin_analysis(parcel, bikeRack, spjnParcelRack)\n",
    "# join the output feature class to the parcel feature class and calculate the total bike racks\n",
    "\n",
    "# Replace a layer/table view name with a path to a dataset (which can be a layer file) or create the layer/table view within the script\n",
    "# The following inputs are layers or table views: \"Parcel\", \"Existing Bicycle Parking\"\n",
    "arcpy.SpatialJoin_analysis(target_features=\"Parcel\", join_features=\"Existing Bicycle Parking\", out_feature_class=\"C:/GIS/PROJECT/BicycleParking/Data/BicycleParkingAnalysis.gdb/Parcel_SpatialJoin1\", join_operation=\"JOIN_ONE_TO_MANY\", join_type=\"KEEP_ALL\", field_mapping='APN \"APN\" true true false 16 Text 0 0 ,First,#,Parcel,Parcel.APN,-1,-1;OWN_FULL \"Owner Full Name\" true true false 100 Text 0 0 ,First,#,Parcel,Parcel.OWN_FULL,-1,-1;OWNERSHIP_TYPE \"Ownership Type\" true true false 12 Text 0 0 ,First,#,Parcel,Parcel.OWNERSHIP_TYPE,-1,-1;TRPA_LUC_DESCRIPTION \"TRPA Land Use Description\" true true false 50 Text 0 0 ,First,#,Parcel,Parcel.TRPA_LUC_DESCRIPTION,-1,-1;COUNTY_LANDUSE_DESCRIPTION \"County Land Use Description\" true true false 50 Text 0 0 ,First,#,Parcel,Parcel.COUNTY_LANDUSE_DESCRIPTION,-1,-1;PARCEL_ACRES \"Acres\" true true false 8 Double 0 0 ,First,#,Parcel,Parcel.PARCEL_ACRES,-1,-1;TOWN_CENTER \"TOWN_CENTER\" true true false 255 Text 0 0 ,First,#,Parcel,Parcel.TOWN_CENTER,-1,-1;JURISDICTION \"JURISDICTION\" true true false 4 Text 0 0 ,First,#,Parcel,Parcel.JURISDICTION,-1,-1;Shape_Length \"Shape_Length\" false true true 8 Double 0 0 ,First,#,Parcel,Parcel.Shape_Length,-1,-1;Shape_Area \"Shape_Area\" false true true 8 Double 0 0 ,First,#,Parcel,Parcel.Shape_Area,-1,-1;ExistingBikeRacks \"Existing Bike Racks\" true true false 2 Short 0 0 ,First,#,Parcel,Parcel.ExistingBikeRacks,-1,-1;BikeRacksRequired \"Bike Racks Required by ATP\" true true false 2 Short 0 0 ,First,#,Parcel,Parcel.BikeRacksRequired,-1,-1;BikeRacksNeeded \"Bike Racks Needed\" true true false 2 Short 0 0 ,First,#,Parcel,Parcel.BikeRacksNeeded,-1,-1;Commodities_OBJECTID \"Commodities_OBJECTID\" false true false 4 Long 0 9 ,First,#,Parcel,Commodities.OBJECTID,-1,-1;Commodities_APN \"Commodities_APN\" true true false 80 Text 0 0 ,First,#,Parcel,Commodities.APN,-1,-1;Commodities_RES_UNITS \"Commodities_RES_UNITS\" true true false 8 Double 0 0 ,First,#,Parcel,Commodities.RES_UNITS,-1,-1;Commodities_TAU_UNITS \"Commodities_TAU_UNITS\" true true false 4 Long 0 0 ,First,#,Parcel,Commodities.TAU_UNITS,-1,-1;Commodities_CFA_SQFT \"Commodities_CFA_SQFT\" true true false 8 Double 0 0 ,First,#,Parcel,Commodities.CFA_SQFT,-1,-1;LocationDescription \"Location Description\" true true false 255 Text 0 0 ,First,#,Existing Bicycle Parking,LocationDescription,-1,-1;BikeRackType \"Bike Rack Type\" true true false 8 Text 0 0 ,First,#,Existing Bicycle Parking,BikeRackType,-1,-1;other \"Other\" true true false 255 Text 0 0 ,First,#,Existing Bicycle Parking,other,-1,-1;branding \"Branding\" true true false 3 Text 0 0 ,First,#,Existing Bicycle Parking,branding,-1,-1;owner \"Owner\" true true false 255 Text 0 0 ,First,#,Existing Bicycle Parking,owner,-1,-1;notes \"Notes\" true true false 255 Text 0 0 ,First,#,Existing Bicycle Parking,notes,-1,-1;Date \"Date\" true true false 8 Date 0 0 ,First,#,Existing Bicycle Parking,Date,-1,-1;Capacity \"Capacity\" true true false 2 Short 0 0 ,Sum,#,Existing Bicycle Parking,Capacity,-1,-1', match_option=\"CONTAINS\", search_radius=\"\", distance_field_name=\"\")"
   ]
  },
  {
   "cell_type": "markdown",
   "metadata": {},
   "source": [
    "#### Parcels classified as 'Public Facilities' need 8 bike parking spaces each"
   ]
  },
  {
   "cell_type": "code",
   "execution_count": null,
   "metadata": {
    "collapsed": true
   },
   "outputs": [],
   "source": [
    "TRPA_LUC_DESCRIPTION = 'Public Service'\n",
    "\n",
    "arcpy.SelectByLocation()"
   ]
  },
  {
   "cell_type": "markdown",
   "metadata": {},
   "source": [
    "#### Parcels classified as 'Mult-Family Residential' need 8 bike parking spaces each"
   ]
  },
  {
   "cell_type": "code",
   "execution_count": null,
   "metadata": {
    "collapsed": true
   },
   "outputs": [],
   "source": [
    "TRPA_LUC_DESCRIPTION = 'Multi-Family Residential'\n",
    "row[0] * 0.1 = row[1]\n",
    "\n",
    "Select BikeRacksNeeded < 2 \n",
    "\n",
    "calculate 2 "
   ]
  },
  {
   "cell_type": "markdown",
   "metadata": {},
   "source": [
    "#### Parcels with Commercial Floor Area need 8 bike parking spaces per 10,000 sq. ft. of CFA"
   ]
  },
  {
   "cell_type": "code",
   "execution_count": null,
   "metadata": {
    "collapsed": true
   },
   "outputs": [],
   "source": [
    "!Parcel.BikeRacksNeeded! + (( !Commodities.CFA_SQFT!/10000) *  8)"
   ]
  },
  {
   "cell_type": "markdown",
   "metadata": {},
   "source": [
    "###### http://pro.arcgis.com/en/pro-app/tool-reference/data-management/add-field.htm"
   ]
  },
  {
   "cell_type": "markdown",
   "metadata": {},
   "source": [
    "## Qauntify amount of bicycle parking"
   ]
  },
  {
   "cell_type": "code",
   "execution_count": null,
   "metadata": {
    "collapsed": true
   },
   "outputs": [],
   "source": [
    "#Make feature layers\n",
    "arcpy.MakeFeatureLayer_management(parcel, \"parcel_lyr\")\n",
    "arcpy.MakeFeatureLayer_management(bikerack, \"bikerack_lyr\")\n",
    "\n",
    "#Select parcels that intersect trees\n",
    "arcpy.SelectLayerByLocation_management(\"parcel_lyr\", \"CONTAINS\", \"bikerack_lyr\",\n",
    "                                   \"#\", \"NEW_SELECTION\")\n",
    "\n",
    "#Create in memory feature class of selected parcels\n",
    "arcpy.FeatureClassToFeatureClass_conversion(\"parcel_lyr\", \"in_memory\", \"bikerackparcels\")\n",
    "bikerackparcels = r'in_memory\\bikerackparcels'\n",
    "\n",
    "#Make feature layer of relevant parcels\n",
    "arcpy.MakeFeatureLayer_management(bikerackparcels, \"bikerackparcel_lyr\")\n",
    "\n",
    "#Create search cursor for relevant parcels\n",
    "with arcpy.da.SearchCursor(\"bikerackparcel_lyr\",\n",
    "                       [\"OID\",\"LocName\", \"SITE_ADDR\",\n",
    "                        \"CITY\", \"ZIP\"])as pcur:\n",
    "    for prow in pcur:\n",
    "        #Select one parcel at a time\n",
    "        arcpy.SelectLayerByAttribute_management(\"bikerackparcel_lyr\", \"NEW_SELECTION\",\n",
    "                                            \"OID = {}\".format(prow[0]))\n",
    "        #Select bikeracks that are within that parcel\n",
    "        arcpy.SelectLayerByLocation_management(\"bikerack_lyr\",\n",
    "                                           \"WITHIN\", \"bikerackparcel_lyr\",\n",
    "                                           \"#\", \"NEW_SELECTION\")\n",
    "        #Create update cursor for trees\n",
    "        with arcpy.da.UpdateCursor(\"parcel\",\n",
    "                               [\"Loc_Name\", \"SiteAddr\",\n",
    "                                \"City_\", \"Zip_Code\"]) as pcur:\n",
    "            #Update parcel attributes with attributes from selected bikeracks\n",
    "            for brow in bcur:\n",
    "                prow[0] = brow[1]\n",
    "                bcur.updateRow(trow)"
   ]
  },
  {
   "cell_type": "code",
   "execution_count": null,
   "metadata": {
    "collapsed": true
   },
   "outputs": [],
   "source": [
    "# https://gis.stackexchange.com/questions/144294/spatially-joining-many-shapefiles-use-spatial-join-or-updatecursor?utm_medium=organic&utm_source=google_rich_qa&utm_campaign=google_rich_qa\n",
    "\n",
    "import arcpy, os\n",
    "\n",
    "#Set environment and define variables\n",
    "arcpy.env.workspace = r'C:\\...\\Example'\n",
    "\n",
    "path = r'C:\\...\\Example'\n",
    "outpath = r'C:\\...\\Example\\SurveyTrees.gdb'\n",
    "parcels = r'C:\\...\\Example\\ParcelProcess.gdb\\Parcel'\n",
    "\n",
    "#Make a list of all the shapefiles in directory\n",
    "shapes = [os.path.join(path,shp) for shp in arcpy.ListFeatureClasses('*')]\n",
    "outname = os.path.abspath(shapes[0]).split(os.sep)[-3]\n",
    "\n",
    "#Merge shapefiles\n",
    "arcpy.Merge_management(shapes, os.path.join(outpath, outname))\n",
    "\n",
    "trees = os.path.join(outpath, outname)\n",
    "\n",
    "#Make feature layers\n",
    "arcpy.MakeFeatureLayer_management(trees, \"tree_lyr\")\n",
    "arcpy.MakeFeatureLayer_management(parcels, \"parcel_lyr\")\n",
    "\n",
    "#Select parcels that intersect trees\n",
    "arcpy.SelectLayerByLocation_management(\"parcel_lyr\", \"INTERSECT\", \"tree_lyr\",\n",
    "                                   \"#\", \"NEW_SELECTION\")\n",
    "\n",
    "#Create in memory feature class of selected parcels\n",
    "arcpy.FeatureClassToFeatureClass_conversion(\"parcel_lyr\", \"in_memory\", \"treeparcels\")\n",
    "treeparcels = r'in_memory\\treeparcels'\n",
    "\n",
    "#Make feature layer of relevant parcels\n",
    "arcpy.MakeFeatureLayer_management(treeparcels, \"treepar_lyr\")\n",
    "\n",
    "#Create search cursor for relevant parcels\n",
    "with arcpy.da.SearchCursor(\"treepar_lyr\",\n",
    "                       [\"OID\",\"LocName\", \"SITE_ADDR\",\n",
    "                        \"CITY\", \"ZIP\"])as pcur:\n",
    "    for prow in pcur:\n",
    "        #Select one parcel at a time\n",
    "        arcpy.SelectLayerByAttribute_management(\"treepar_lyr\", \"NEW_SELECTION\",\n",
    "                                            \"OID = {}\".format(prow[0]))\n",
    "        #Select trees that are within that parcel\n",
    "        arcpy.SelectLayerByLocation_management(\"tree_lyr\",\n",
    "                                           \"WITHIN\", \"treepar_lyr\",\n",
    "                                           \"#\", \"NEW_SELECTION\")\n",
    "        #Create update cursor for trees\n",
    "        with arcpy.da.UpdateCursor(\"tree_lyr\",\n",
    "                               [\"Loc_Name\", \"SiteAddr\",\n",
    "                                \"City_\", \"Zip_Code\"]) as tcur:\n",
    "            #Update tree attributes with attributes from selected parcel\n",
    "            for trow in tcur:\n",
    "                trow[0] = prow[1]\n",
    "                trow[1] = prow[2]\n",
    "                trow[2] = prow[3]\n",
    "                trow[3] = prow[4]\n",
    "                tcur.updateRow(trow)"
   ]
  }
 ],
 "metadata": {
  "kernelspec": {
   "display_name": "Python 3",
   "language": "python",
   "name": "python3"
  },
  "language_info": {
   "codemirror_mode": {
    "name": "ipython",
    "version": 3
   },
   "file_extension": ".py",
   "mimetype": "text/x-python",
   "name": "python",
   "nbconvert_exporter": "python",
   "pygments_lexer": "ipython3",
   "version": "3.6.5"
  }
 },
 "nbformat": 4,
 "nbformat_minor": 2
}
